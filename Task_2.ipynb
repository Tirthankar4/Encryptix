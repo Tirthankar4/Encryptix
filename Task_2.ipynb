{
  "metadata": {
    "kernelspec": {
      "language": "python",
      "display_name": "Python 3",
      "name": "python3"
    },
    "language_info": {
      "name": "python",
      "version": "3.10.13",
      "mimetype": "text/x-python",
      "codemirror_mode": {
        "name": "ipython",
        "version": 3
      },
      "pygments_lexer": "ipython3",
      "nbconvert_exporter": "python",
      "file_extension": ".py"
    },
    "kaggle": {
      "accelerator": "nvidiaTeslaT4",
      "dataSources": [
        {
          "sourceId": 1399887,
          "sourceType": "datasetVersion",
          "datasetId": 817870
        }
      ],
      "dockerImageVersionId": 30732,
      "isInternetEnabled": true,
      "language": "python",
      "sourceType": "notebook",
      "isGpuEnabled": true
    },
    "colab": {
      "provenance": [],
      "include_colab_link": true
    }
  },
  "nbformat_minor": 0,
  "nbformat": 4,
  "cells": [
    {
      "cell_type": "markdown",
      "metadata": {
        "id": "view-in-github",
        "colab_type": "text"
      },
      "source": [
        "<a href=\"https://colab.research.google.com/github/Tirthankar4/Encryptix/blob/main/Task_2.ipynb\" target=\"_parent\"><img src=\"https://colab.research.google.com/assets/colab-badge.svg\" alt=\"Open In Colab\"/></a>"
      ]
    },
    {
      "source": [
        "# IMPORTANT: RUN THIS CELL IN ORDER TO IMPORT YOUR KAGGLE DATA SOURCES\n",
        "# TO THE CORRECT LOCATION (/kaggle/input) IN YOUR NOTEBOOK,\n",
        "# THEN FEEL FREE TO DELETE THIS CELL.\n",
        "# NOTE: THIS NOTEBOOK ENVIRONMENT DIFFERS FROM KAGGLE'S PYTHON\n",
        "# ENVIRONMENT SO THERE MAY BE MISSING LIBRARIES USED BY YOUR\n",
        "# NOTEBOOK.\n",
        "\n",
        "import os\n",
        "import sys\n",
        "from tempfile import NamedTemporaryFile\n",
        "from urllib.request import urlopen\n",
        "from urllib.parse import unquote, urlparse\n",
        "from urllib.error import HTTPError\n",
        "from zipfile import ZipFile\n",
        "import tarfile\n",
        "import shutil\n",
        "\n",
        "CHUNK_SIZE = 40960\n",
        "DATA_SOURCE_MAPPING = 'fraud-detection:https%3A%2F%2Fstorage.googleapis.com%2Fkaggle-data-sets%2F817870%2F1399887%2Fbundle%2Farchive.zip%3FX-Goog-Algorithm%3DGOOG4-RSA-SHA256%26X-Goog-Credential%3Dgcp-kaggle-com%2540kaggle-161607.iam.gserviceaccount.com%252F20240719%252Fauto%252Fstorage%252Fgoog4_request%26X-Goog-Date%3D20240719T103725Z%26X-Goog-Expires%3D259200%26X-Goog-SignedHeaders%3Dhost%26X-Goog-Signature%3D02515603955e5ad55421caaff332390ace476da2aa0112993811b655625b036095a352dd4c808d2db76673b5eca0fece7faa0b185644b98cc70d448aa7f802d9f8ef9a676eabeb5168fe6c52fa5b5dd41878f32450f39289f3252c956287f566a61b5c6f11d3d4df79ab46afdc6e42b2878e5a39811e06840a6bf741bcaa05dbb85bc18ce2a3a5ed7ae83a60b0355067e0ed3c74ba992e28520ab017b8715c814b87d697a5685e3e551bfec4a9eb8379b7bc614fd23e5b5f461df92619e53dfab632c6a32d372c920c248adbe06be8974c8508e940469071354f8ea0cfde92620ad73045a743420efef972f5222c1aeca60dd48d707390dcc7d5de762c1975b1'\n",
        "\n",
        "KAGGLE_INPUT_PATH='/kaggle/input'\n",
        "KAGGLE_WORKING_PATH='/kaggle/working'\n",
        "KAGGLE_SYMLINK='kaggle'\n",
        "\n",
        "!umount /kaggle/input/ 2> /dev/null\n",
        "shutil.rmtree('/kaggle/input', ignore_errors=True)\n",
        "os.makedirs(KAGGLE_INPUT_PATH, 0o777, exist_ok=True)\n",
        "os.makedirs(KAGGLE_WORKING_PATH, 0o777, exist_ok=True)\n",
        "\n",
        "try:\n",
        "  os.symlink(KAGGLE_INPUT_PATH, os.path.join(\"..\", 'input'), target_is_directory=True)\n",
        "except FileExistsError:\n",
        "  pass\n",
        "try:\n",
        "  os.symlink(KAGGLE_WORKING_PATH, os.path.join(\"..\", 'working'), target_is_directory=True)\n",
        "except FileExistsError:\n",
        "  pass\n",
        "\n",
        "for data_source_mapping in DATA_SOURCE_MAPPING.split(','):\n",
        "    directory, download_url_encoded = data_source_mapping.split(':')\n",
        "    download_url = unquote(download_url_encoded)\n",
        "    filename = urlparse(download_url).path\n",
        "    destination_path = os.path.join(KAGGLE_INPUT_PATH, directory)\n",
        "    try:\n",
        "        with urlopen(download_url) as fileres, NamedTemporaryFile() as tfile:\n",
        "            total_length = fileres.headers['content-length']\n",
        "            print(f'Downloading {directory}, {total_length} bytes compressed')\n",
        "            dl = 0\n",
        "            data = fileres.read(CHUNK_SIZE)\n",
        "            while len(data) > 0:\n",
        "                dl += len(data)\n",
        "                tfile.write(data)\n",
        "                done = int(50 * dl / int(total_length))\n",
        "                sys.stdout.write(f\"\\r[{'=' * done}{' ' * (50-done)}] {dl} bytes downloaded\")\n",
        "                sys.stdout.flush()\n",
        "                data = fileres.read(CHUNK_SIZE)\n",
        "            if filename.endswith('.zip'):\n",
        "              with ZipFile(tfile) as zfile:\n",
        "                zfile.extractall(destination_path)\n",
        "            else:\n",
        "              with tarfile.open(tfile.name) as tarfile:\n",
        "                tarfile.extractall(destination_path)\n",
        "            print(f'\\nDownloaded and uncompressed: {directory}')\n",
        "    except HTTPError as e:\n",
        "        print(f'Failed to load (likely expired) {download_url} to path {destination_path}')\n",
        "        continue\n",
        "    except OSError as e:\n",
        "        print(f'Failed to load {download_url} to path {destination_path}')\n",
        "        continue\n",
        "\n",
        "print('Data source import complete.')\n"
      ],
      "metadata": {
        "id": "JSI4_KQDkXZk"
      },
      "cell_type": "code",
      "outputs": [],
      "execution_count": null
    },
    {
      "cell_type": "code",
      "source": [
        "import numpy as np\n",
        "import pandas as pd\n",
        "import matplotlib.pyplot as plt\n",
        "import seaborn as sns\n",
        "from sklearn.preprocessing import LabelEncoder\n",
        "from sklearn.model_selection import train_test_split\n",
        "from sklearn.feature_selection import mutual_info_classif\n",
        "from sklearn.tree import DecisionTreeClassifier\n",
        "from xgboost import XGBClassifier\n",
        "import optuna\n",
        "from sklearn.metrics import roc_auc_score, classification_report\n",
        "import warnings\n",
        "\n",
        "warnings.filterwarnings(\"ignore\")"
      ],
      "metadata": {
        "_uuid": "8f2839f25d086af736a60e9eeb907d3b93b6e0e5",
        "_cell_guid": "b1076dfc-b9ad-4769-8c92-a6c4dae69d19",
        "execution": {
          "iopub.status.busy": "2024-07-19T10:21:37.551563Z",
          "iopub.execute_input": "2024-07-19T10:21:37.551834Z",
          "iopub.status.idle": "2024-07-19T10:21:40.437331Z",
          "shell.execute_reply.started": "2024-07-19T10:21:37.55181Z",
          "shell.execute_reply": "2024-07-19T10:21:40.436461Z"
        },
        "trusted": true,
        "id": "APWeQQGikXZl"
      },
      "execution_count": null,
      "outputs": []
    },
    {
      "cell_type": "markdown",
      "source": [
        "Import Dataset and get Basic Info"
      ],
      "metadata": {
        "id": "hP3VuinckXZm"
      }
    },
    {
      "cell_type": "code",
      "source": [
        "X = pd.read_csv('/kaggle/input/fraud-detection/fraudTrain.csv', index_col = 'Unnamed: 0')\n",
        "X.info()"
      ],
      "metadata": {
        "execution": {
          "iopub.status.busy": "2024-07-19T10:21:54.651715Z",
          "iopub.execute_input": "2024-07-19T10:21:54.65247Z",
          "iopub.status.idle": "2024-07-19T10:22:08.154271Z",
          "shell.execute_reply.started": "2024-07-19T10:21:54.652437Z",
          "shell.execute_reply": "2024-07-19T10:22:08.153319Z"
        },
        "trusted": true,
        "id": "IzvAglcjkXZm",
        "outputId": "6dbd6b88-4f60-4c96-fbe0-efbe5785abc0"
      },
      "execution_count": null,
      "outputs": [
        {
          "name": "stdout",
          "text": "<class 'pandas.core.frame.DataFrame'>\nIndex: 1296675 entries, 0 to 1296674\nData columns (total 22 columns):\n #   Column                 Non-Null Count    Dtype  \n---  ------                 --------------    -----  \n 0   trans_date_trans_time  1296675 non-null  object \n 1   cc_num                 1296675 non-null  int64  \n 2   merchant               1296675 non-null  object \n 3   category               1296675 non-null  object \n 4   amt                    1296675 non-null  float64\n 5   first                  1296675 non-null  object \n 6   last                   1296675 non-null  object \n 7   gender                 1296675 non-null  object \n 8   street                 1296675 non-null  object \n 9   city                   1296675 non-null  object \n 10  state                  1296675 non-null  object \n 11  zip                    1296675 non-null  int64  \n 12  lat                    1296675 non-null  float64\n 13  long                   1296675 non-null  float64\n 14  city_pop               1296675 non-null  int64  \n 15  job                    1296675 non-null  object \n 16  dob                    1296675 non-null  object \n 17  trans_num              1296675 non-null  object \n 18  unix_time              1296675 non-null  int64  \n 19  merch_lat              1296675 non-null  float64\n 20  merch_long             1296675 non-null  float64\n 21  is_fraud               1296675 non-null  int64  \ndtypes: float64(5), int64(5), object(12)\nmemory usage: 227.5+ MB\n",
          "output_type": "stream"
        }
      ]
    },
    {
      "cell_type": "markdown",
      "source": [
        "Seperate target variable to prevent data leakage and keep aside a validation set to test model on unseen data"
      ],
      "metadata": {
        "id": "TDchmTjJkXZn"
      }
    },
    {
      "cell_type": "code",
      "source": [
        "y = X.pop(\"is_fraud\")\n",
        "X_train, X_valid, y_train, y_valid = train_test_split(X, y, test_size=0.2, random_state=69)"
      ],
      "metadata": {
        "execution": {
          "iopub.status.busy": "2024-07-19T10:22:11.911777Z",
          "iopub.execute_input": "2024-07-19T10:22:11.912125Z",
          "iopub.status.idle": "2024-07-19T10:22:13.105205Z",
          "shell.execute_reply.started": "2024-07-19T10:22:11.912097Z",
          "shell.execute_reply": "2024-07-19T10:22:13.104417Z"
        },
        "trusted": true,
        "id": "Hq5bzBuokXZn"
      },
      "execution_count": null,
      "outputs": []
    },
    {
      "cell_type": "markdown",
      "source": [
        "Remove unncessary symbols from text data for preprocessing"
      ],
      "metadata": {
        "id": "ybJTM1hfkXZn"
      }
    },
    {
      "cell_type": "code",
      "source": [
        "symb_remv = r'[_,/\\-@#&:\\s]'\n",
        "\n",
        "obj_cols = ['merchant', 'category', 'first', 'last', 'street', 'city', 'state', 'job']\n",
        "\n",
        "for col in obj_cols:\n",
        "    X_train[col] = X_train[col].str.replace(symb_remv, '', regex=True).str.strip()\n",
        "    X_valid[col] = X_valid[col].str.replace(symb_remv, '', regex=True).str.strip()\n",
        "\n",
        "X_train[\"merchant\"] = X_train[\"merchant\"].str.replace(\"fraud\", \"\", case = False)\n",
        "X_valid[\"merchant\"] = X_valid[\"merchant\"].str.replace(\"fraud\", \"\", case = False)"
      ],
      "metadata": {
        "execution": {
          "iopub.status.busy": "2024-07-19T10:22:15.485085Z",
          "iopub.execute_input": "2024-07-19T10:22:15.485544Z",
          "iopub.status.idle": "2024-07-19T10:22:35.736774Z",
          "shell.execute_reply.started": "2024-07-19T10:22:15.485507Z",
          "shell.execute_reply": "2024-07-19T10:22:35.73597Z"
        },
        "trusted": true,
        "id": "f3u3kR5gkXZn"
      },
      "execution_count": null,
      "outputs": []
    },
    {
      "cell_type": "markdown",
      "source": [
        "Label Encoding Gender"
      ],
      "metadata": {
        "id": "PE-4aSrQkXZn"
      }
    },
    {
      "cell_type": "code",
      "source": [
        "gender = LabelEncoder()\n",
        "\n",
        "X_train[\"gender\"] = gender.fit_transform(X_train[\"gender\"])\n",
        "X_valid[\"gender\"] = gender.transform(X_valid[\"gender\"])"
      ],
      "metadata": {
        "execution": {
          "iopub.status.busy": "2024-07-19T10:22:37.390348Z",
          "iopub.execute_input": "2024-07-19T10:22:37.390745Z",
          "iopub.status.idle": "2024-07-19T10:22:37.687779Z",
          "shell.execute_reply.started": "2024-07-19T10:22:37.390716Z",
          "shell.execute_reply": "2024-07-19T10:22:37.686708Z"
        },
        "trusted": true,
        "id": "xcRO2UADkXZo"
      },
      "execution_count": null,
      "outputs": []
    },
    {
      "cell_type": "markdown",
      "source": [
        "Frequency encoding the following columns"
      ],
      "metadata": {
        "id": "UaJWGAMAkXZo"
      }
    },
    {
      "cell_type": "code",
      "source": [
        "freq_encd_cols = [\"merchant\", \"first\", \"last\", \"category\", \"street\", \"city\", \"state\", \"job\"]\n",
        "\n",
        "for col in freq_encd_cols:\n",
        "\n",
        "    freq_map = X_train[col].value_counts()\n",
        "\n",
        "    X_train[col] = X_train[col].map(freq_map)\n",
        "    X_valid[col] = X_valid[col].map(freq_map)"
      ],
      "metadata": {
        "execution": {
          "iopub.status.busy": "2024-07-19T10:22:40.595911Z",
          "iopub.execute_input": "2024-07-19T10:22:40.596571Z",
          "iopub.status.idle": "2024-07-19T10:22:43.371365Z",
          "shell.execute_reply.started": "2024-07-19T10:22:40.596538Z",
          "shell.execute_reply": "2024-07-19T10:22:43.37035Z"
        },
        "trusted": true,
        "id": "ztendKRHkXZo"
      },
      "execution_count": null,
      "outputs": []
    },
    {
      "cell_type": "markdown",
      "source": [
        "Checking mutual information scores to pick most useful features"
      ],
      "metadata": {
        "id": "gy3YxYGykXZo"
      }
    },
    {
      "cell_type": "code",
      "source": [
        "num_cols = [col for col in X_train.columns if X_train[col].dtype in ['int64', 'float64']]\n",
        "\n",
        "mi_scores = mutual_info_classif(X_train_copy[num_cols], y_train, discrete_features=False)\n",
        "\n",
        "mi_scores_df = pd.DataFrame({'Feature': num_cols, 'MI_Score': mi_scores})\n",
        "mi_scores_df = mi_scores_df.sort_values(by='MI_Score', ascending=False)\n",
        "\n",
        "sns.barplot(x='MI_Score', y='Feature', data = mi_scores_df, palette='viridis')"
      ],
      "metadata": {
        "execution": {
          "iopub.status.busy": "2024-07-17T07:52:46.497578Z",
          "iopub.execute_input": "2024-07-17T07:52:46.497982Z",
          "iopub.status.idle": "2024-07-17T07:55:35.982027Z",
          "shell.execute_reply.started": "2024-07-17T07:52:46.497949Z",
          "shell.execute_reply": "2024-07-17T07:55:35.980978Z"
        },
        "trusted": true,
        "id": "rk4uvMf9kXZo"
      },
      "execution_count": null,
      "outputs": []
    },
    {
      "cell_type": "markdown",
      "source": [
        "Checking correlation matrix to see any unseen relations by mutual_info_classif"
      ],
      "metadata": {
        "id": "5oNRDGxQkXZo"
      }
    },
    {
      "cell_type": "code",
      "source": [
        "X_train[num_cols].corrwith(y_train)\n",
        "plt.figure(figsize=(10, 6))\n",
        "sns.heatmap(X_train[num_cols].corr(),annot = True, fmt = '.2f')"
      ],
      "metadata": {
        "execution": {
          "iopub.status.busy": "2024-07-16T13:58:27.491955Z",
          "iopub.execute_input": "2024-07-16T13:58:27.492794Z",
          "iopub.status.idle": "2024-07-16T13:58:27.89926Z",
          "shell.execute_reply.started": "2024-07-16T13:58:27.492753Z",
          "shell.execute_reply": "2024-07-16T13:58:27.897952Z"
        },
        "trusted": true,
        "id": "zxtI3cT1kXZo"
      },
      "execution_count": null,
      "outputs": []
    },
    {
      "cell_type": "markdown",
      "source": [
        "Picking the most important columns for training"
      ],
      "metadata": {
        "id": "BHb2xbFZkXZo"
      }
    },
    {
      "cell_type": "code",
      "source": [
        "X_train1 = pd.DataFrame(X_train[[\"gender\", \"category\", \"amt\", \"state\", \"unix_time\", \"zip\", \"lat\", \"long\", \"cc_num\"]])\n",
        "X_valid1 = pd.DataFrame(X_valid[[\"gender\", \"category\", \"amt\", \"state\", \"unix_time\", \"zip\", \"lat\", \"long\", \"cc_num\"]])"
      ],
      "metadata": {
        "execution": {
          "iopub.status.busy": "2024-07-19T10:22:55.089572Z",
          "iopub.execute_input": "2024-07-19T10:22:55.090177Z",
          "iopub.status.idle": "2024-07-19T10:22:55.123975Z",
          "shell.execute_reply.started": "2024-07-19T10:22:55.090138Z",
          "shell.execute_reply": "2024-07-19T10:22:55.123168Z"
        },
        "trusted": true,
        "id": "zYbxc7--kXZp"
      },
      "execution_count": null,
      "outputs": []
    },
    {
      "cell_type": "markdown",
      "source": [
        "Since dataset is imbalanced, using this ratio for better model quality"
      ],
      "metadata": {
        "id": "Eg3IXGb2kXZp"
      }
    },
    {
      "cell_type": "code",
      "source": [
        "ratio = float(np.sum(y_train == 0)) / np.sum(y_train == 1)"
      ],
      "metadata": {
        "execution": {
          "iopub.status.busy": "2024-07-19T10:22:57.016592Z",
          "iopub.execute_input": "2024-07-19T10:22:57.01694Z",
          "iopub.status.idle": "2024-07-19T10:22:57.024977Z",
          "shell.execute_reply.started": "2024-07-19T10:22:57.016912Z",
          "shell.execute_reply": "2024-07-19T10:22:57.024178Z"
        },
        "trusted": true,
        "id": "nuN5bmA1kXZp"
      },
      "execution_count": null,
      "outputs": []
    },
    {
      "cell_type": "markdown",
      "source": [
        "Baseline model to compare performance with"
      ],
      "metadata": {
        "id": "Bl4AuQ7KkXZp"
      }
    },
    {
      "cell_type": "code",
      "source": [
        "dt_model = DecisionTreeClassifier(random_state = 69)\n",
        "\n",
        "dt_model.fit(X_train1, y_train)\n",
        "\n",
        "preds = dt_model.predict(X_valid1)\n",
        "\n",
        "report = classification_report(y_valid, preds, target_names = [\"Not Fraud\", \"Fraud\"])\n",
        "\n",
        "print(\"Classification report is:\")\n",
        "print(report)"
      ],
      "metadata": {
        "execution": {
          "iopub.status.busy": "2024-07-19T10:22:58.915397Z",
          "iopub.execute_input": "2024-07-19T10:22:58.916289Z",
          "iopub.status.idle": "2024-07-19T10:23:51.176764Z",
          "shell.execute_reply.started": "2024-07-19T10:22:58.916249Z",
          "shell.execute_reply": "2024-07-19T10:23:51.175754Z"
        },
        "collapsed": true,
        "jupyter": {
          "outputs_hidden": true
        },
        "trusted": true,
        "id": "EhmFTYQTkXZp",
        "outputId": "4dbc5d38-ebfd-472b-bca0-814b2d6c7dbf"
      },
      "execution_count": null,
      "outputs": [
        {
          "name": "stdout",
          "text": "Round 1\nClassification report is:\n              precision    recall  f1-score   support\n\n   Not Fraud       1.00      1.00      1.00    257818\n       Fraud       0.66      0.67      0.66      1517\n\n    accuracy                           1.00    259335\n   macro avg       0.83      0.83      0.83    259335\nweighted avg       1.00      1.00      1.00    259335\n\nRound 2\nClassification report is:\n              precision    recall  f1-score   support\n\n   Not Fraud       1.00      1.00      1.00    257818\n       Fraud       0.66      0.67      0.66      1517\n\n    accuracy                           1.00    259335\n   macro avg       0.83      0.83      0.83    259335\nweighted avg       1.00      1.00      1.00    259335\n\nRound 3\nClassification report is:\n              precision    recall  f1-score   support\n\n   Not Fraud       1.00      1.00      1.00    257818\n       Fraud       0.66      0.67      0.66      1517\n\n    accuracy                           1.00    259335\n   macro avg       0.83      0.83      0.83    259335\nweighted avg       1.00      1.00      1.00    259335\n\nRound 4\nClassification report is:\n              precision    recall  f1-score   support\n\n   Not Fraud       1.00      1.00      1.00    257818\n       Fraud       0.66      0.67      0.66      1517\n\n    accuracy                           1.00    259335\n   macro avg       0.83      0.83      0.83    259335\nweighted avg       1.00      1.00      1.00    259335\n\nRound 5\nClassification report is:\n              precision    recall  f1-score   support\n\n   Not Fraud       1.00      1.00      1.00    257818\n       Fraud       0.66      0.67      0.66      1517\n\n    accuracy                           1.00    259335\n   macro avg       0.83      0.83      0.83    259335\nweighted avg       1.00      1.00      1.00    259335\n\n",
          "output_type": "stream"
        }
      ]
    },
    {
      "cell_type": "markdown",
      "source": [
        "Optuna for best hyperparameter searching"
      ],
      "metadata": {
        "id": "M7m-q5AGkXZp"
      }
    },
    {
      "cell_type": "code",
      "source": [
        "def objective(trial):\n",
        "    param = {\n",
        "        'eval_metric': 'auc',\n",
        "        'reg_lambda': trial.suggest_float('lambda', 1.0, 4.0),\n",
        "        'max_depth': trial.suggest_int('max_depth', 8, 16),\n",
        "        'eta': trial.suggest_float('eta', 0.01, 0.1),\n",
        "        'subsample': trial.suggest_float('subsample', 0.5, 1.0),\n",
        "        'colsample_bylevel': trial.suggest_float('colsample_bylevel', 0.5, 1.0),\n",
        "        'colsample_bytree': trial.suggest_float('colsample_bytree', 0.5, 1.0),\n",
        "        'tree_method':'hist',\n",
        "        'n_estimators': 1000,\n",
        "        'early_stopping_rounds':100,\n",
        "        'scale_pos_weight': ratio,\n",
        "        'device': 'cuda',\n",
        "        'random_state': 69\n",
        "    }\n",
        "\n",
        "    model = XGBClassifier(**param)\n",
        "    model.fit(X_train1, y_train, eval_set = [(X_valid1, y_valid)], verbose = 100)\n",
        "    preds = model.predict_proba(X_valid1)[:, 1]\n",
        "    score = roc_auc_score(y_valid, preds)\n",
        "    return score\n",
        "\n",
        "xgb_study = optuna.create_study(direction='maximize')\n",
        "xgb_study.optimize(objective, n_trials=10)"
      ],
      "metadata": {
        "execution": {
          "iopub.status.busy": "2024-07-19T10:24:07.954723Z",
          "iopub.execute_input": "2024-07-19T10:24:07.955509Z",
          "iopub.status.idle": "2024-07-19T10:27:31.551691Z",
          "shell.execute_reply.started": "2024-07-19T10:24:07.955475Z",
          "shell.execute_reply": "2024-07-19T10:27:31.550463Z"
        },
        "collapsed": true,
        "jupyter": {
          "outputs_hidden": true
        },
        "trusted": true,
        "id": "SqSZTuiSkXZp",
        "outputId": "1957a5b5-44b7-473e-e15f-aa3af4e61279"
      },
      "execution_count": null,
      "outputs": [
        {
          "name": "stderr",
          "text": "[I 2024-07-19 10:24:07,960] A new study created in memory with name: no-name-9ea6c649-7400-46be-acc7-9676f9725981\n",
          "output_type": "stream"
        },
        {
          "name": "stdout",
          "text": "[0]\tvalidation_0-auc:0.99263\n[100]\tvalidation_0-auc:0.99221\n",
          "output_type": "stream"
        },
        {
          "name": "stderr",
          "text": "/opt/conda/lib/python3.10/site-packages/xgboost/core.py:160: UserWarning: [10:24:11] WARNING: /workspace/src/common/error_msg.cc:58: Falling back to prediction using DMatrix due to mismatched devices. This might lead to higher memory usage and slower performance. XGBoost is running on: cuda:0, while the input data is on: cpu.\nPotential solutions:\n- Use a data structure that matches the device ordinal in the booster.\n- Set the device for booster before call to inplace_predict.\n\nThis warning will only be shown once.\n\n  warnings.warn(smsg, UserWarning)\n[I 2024-07-19 10:24:11,456] Trial 0 finished with value: 0.9932179587903355 and parameters: {'lambda': 1.8164146196947442, 'max_depth': 11, 'eta': 0.010401855294423855, 'subsample': 0.6034582604697567, 'colsample_bylevel': 0.9591255838468815, 'colsample_bytree': 0.7261032463568482}. Best is trial 0 with value: 0.9932179587903355.\n",
          "output_type": "stream"
        },
        {
          "name": "stdout",
          "text": "[0]\tvalidation_0-auc:0.95365\n[100]\tvalidation_0-auc:0.99705\n[200]\tvalidation_0-auc:0.99870\n[300]\tvalidation_0-auc:0.99896\n[400]\tvalidation_0-auc:0.99914\n[500]\tvalidation_0-auc:0.99925\n[600]\tvalidation_0-auc:0.99931\n[700]\tvalidation_0-auc:0.99937\n[800]\tvalidation_0-auc:0.99939\n[900]\tvalidation_0-auc:0.99941\n[999]\tvalidation_0-auc:0.99941\n",
          "output_type": "stream"
        },
        {
          "name": "stderr",
          "text": "[I 2024-07-19 10:24:37,835] Trial 1 finished with value: 0.9994152538800692 and parameters: {'lambda': 3.1746001035102163, 'max_depth': 16, 'eta': 0.07628949004137456, 'subsample': 0.5540391318261598, 'colsample_bylevel': 0.8209052774575794, 'colsample_bytree': 0.5064089983052313}. Best is trial 1 with value: 0.9994152538800692.\n",
          "output_type": "stream"
        },
        {
          "name": "stdout",
          "text": "[0]\tvalidation_0-auc:0.99334\n[100]\tvalidation_0-auc:0.99566\n[200]\tvalidation_0-auc:0.99791\n[300]\tvalidation_0-auc:0.99868\n[400]\tvalidation_0-auc:0.99888\n[500]\tvalidation_0-auc:0.99894\n[600]\tvalidation_0-auc:0.99898\n[700]\tvalidation_0-auc:0.99899\n[800]\tvalidation_0-auc:0.99900\n[900]\tvalidation_0-auc:0.99901\n[978]\tvalidation_0-auc:0.99901\n",
          "output_type": "stream"
        },
        {
          "name": "stderr",
          "text": "[I 2024-07-19 10:25:02,646] Trial 2 finished with value: 0.9990102424048549 and parameters: {'lambda': 3.322339839959294, 'max_depth': 16, 'eta': 0.060738540166640716, 'subsample': 0.9954688334692046, 'colsample_bylevel': 0.6891510010981106, 'colsample_bytree': 0.9295002256111082}. Best is trial 1 with value: 0.9994152538800692.\n",
          "output_type": "stream"
        },
        {
          "name": "stdout",
          "text": "[0]\tvalidation_0-auc:0.99115\n[100]\tvalidation_0-auc:0.99442\n[200]\tvalidation_0-auc:0.99635\n[300]\tvalidation_0-auc:0.99748\n[400]\tvalidation_0-auc:0.99803\n[500]\tvalidation_0-auc:0.99842\n[600]\tvalidation_0-auc:0.99865\n[700]\tvalidation_0-auc:0.99888\n[800]\tvalidation_0-auc:0.99902\n[900]\tvalidation_0-auc:0.99912\n[999]\tvalidation_0-auc:0.99919\n",
          "output_type": "stream"
        },
        {
          "name": "stderr",
          "text": "[I 2024-07-19 10:25:22,501] Trial 3 finished with value: 0.9991921912609393 and parameters: {'lambda': 2.3262734650068384, 'max_depth': 11, 'eta': 0.041929549657304735, 'subsample': 0.8945170095280701, 'colsample_bylevel': 0.8312099542965605, 'colsample_bytree': 0.7315946816358176}. Best is trial 1 with value: 0.9994152538800692.\n",
          "output_type": "stream"
        },
        {
          "name": "stdout",
          "text": "[0]\tvalidation_0-auc:0.99144\n[100]\tvalidation_0-auc:0.99446\n[200]\tvalidation_0-auc:0.99590\n[300]\tvalidation_0-auc:0.99676\n[400]\tvalidation_0-auc:0.99736\n[500]\tvalidation_0-auc:0.99769\n[600]\tvalidation_0-auc:0.99793\n[700]\tvalidation_0-auc:0.99819\n[800]\tvalidation_0-auc:0.99839\n[900]\tvalidation_0-auc:0.99851\n[999]\tvalidation_0-auc:0.99864\n",
          "output_type": "stream"
        },
        {
          "name": "stderr",
          "text": "[I 2024-07-19 10:25:43,126] Trial 4 finished with value: 0.9986372078747603 and parameters: {'lambda': 2.3932388448025006, 'max_depth': 11, 'eta': 0.027966150019036358, 'subsample': 0.7844003636583418, 'colsample_bylevel': 0.7718526398211846, 'colsample_bytree': 0.8190331957976468}. Best is trial 1 with value: 0.9994152538800692.\n",
          "output_type": "stream"
        },
        {
          "name": "stdout",
          "text": "[0]\tvalidation_0-auc:0.98163\n[100]\tvalidation_0-auc:0.99681\n[200]\tvalidation_0-auc:0.99794\n[300]\tvalidation_0-auc:0.99862\n[400]\tvalidation_0-auc:0.99893\n[500]\tvalidation_0-auc:0.99911\n[600]\tvalidation_0-auc:0.99918\n[700]\tvalidation_0-auc:0.99924\n[800]\tvalidation_0-auc:0.99929\n[900]\tvalidation_0-auc:0.99931\n[999]\tvalidation_0-auc:0.99932\n",
          "output_type": "stream"
        },
        {
          "name": "stderr",
          "text": "[I 2024-07-19 10:26:00,610] Trial 5 finished with value: 0.9993186250311952 and parameters: {'lambda': 3.522371147374931, 'max_depth': 10, 'eta': 0.09676682340492108, 'subsample': 0.8722533851225259, 'colsample_bylevel': 0.704506856298165, 'colsample_bytree': 0.823674707917827}. Best is trial 1 with value: 0.9994152538800692.\n",
          "output_type": "stream"
        },
        {
          "name": "stdout",
          "text": "[0]\tvalidation_0-auc:0.98792\n[100]\tvalidation_0-auc:0.99405\n[200]\tvalidation_0-auc:0.99584\n[300]\tvalidation_0-auc:0.99662\n[400]\tvalidation_0-auc:0.99679\n[500]\tvalidation_0-auc:0.99702\n[600]\tvalidation_0-auc:0.99736\n[700]\tvalidation_0-auc:0.99749\n[800]\tvalidation_0-auc:0.99776\n[900]\tvalidation_0-auc:0.99798\n[999]\tvalidation_0-auc:0.99817\n",
          "output_type": "stream"
        },
        {
          "name": "stderr",
          "text": "[I 2024-07-19 10:26:17,181] Trial 6 finished with value: 0.9981726543126729 and parameters: {'lambda': 1.2592998344522992, 'max_depth': 9, 'eta': 0.0350404660987883, 'subsample': 0.6384706864887787, 'colsample_bylevel': 0.7860339318841529, 'colsample_bytree': 0.7100765421205639}. Best is trial 1 with value: 0.9994152538800692.\n",
          "output_type": "stream"
        },
        {
          "name": "stdout",
          "text": "[0]\tvalidation_0-auc:0.99081\n[100]\tvalidation_0-auc:0.99587\n[200]\tvalidation_0-auc:0.99631\n[300]\tvalidation_0-auc:0.99681\n[400]\tvalidation_0-auc:0.99749\n[500]\tvalidation_0-auc:0.99784\n[600]\tvalidation_0-auc:0.99822\n[700]\tvalidation_0-auc:0.99846\n[800]\tvalidation_0-auc:0.99867\n[900]\tvalidation_0-auc:0.99879\n[999]\tvalidation_0-auc:0.99886\n",
          "output_type": "stream"
        },
        {
          "name": "stderr",
          "text": "[I 2024-07-19 10:26:31,786] Trial 7 finished with value: 0.9988660323014166 and parameters: {'lambda': 2.9996808906684365, 'max_depth': 8, 'eta': 0.07294799051058659, 'subsample': 0.6173974003124083, 'colsample_bylevel': 0.8863243224717241, 'colsample_bytree': 0.9275651852521827}. Best is trial 1 with value: 0.9994152538800692.\n",
          "output_type": "stream"
        },
        {
          "name": "stdout",
          "text": "[0]\tvalidation_0-auc:0.98340\n[100]\tvalidation_0-auc:0.99467\n[200]\tvalidation_0-auc:0.99718\n[300]\tvalidation_0-auc:0.99812\n[400]\tvalidation_0-auc:0.99857\n[500]\tvalidation_0-auc:0.99880\n[600]\tvalidation_0-auc:0.99891\n[700]\tvalidation_0-auc:0.99900\n[800]\tvalidation_0-auc:0.99905\n[900]\tvalidation_0-auc:0.99907\n[999]\tvalidation_0-auc:0.99912\n",
          "output_type": "stream"
        },
        {
          "name": "stderr",
          "text": "[I 2024-07-19 10:26:58,371] Trial 8 finished with value: 0.9991207100747788 and parameters: {'lambda': 2.1249026278219527, 'max_depth': 14, 'eta': 0.04791877620726165, 'subsample': 0.5359352188691379, 'colsample_bylevel': 0.5634259065621844, 'colsample_bytree': 0.6620619588737597}. Best is trial 1 with value: 0.9994152538800692.\n",
          "output_type": "stream"
        },
        {
          "name": "stdout",
          "text": "[0]\tvalidation_0-auc:0.97906\n[100]\tvalidation_0-auc:0.99230\n[200]\tvalidation_0-auc:0.99621\n[300]\tvalidation_0-auc:0.99730\n[400]\tvalidation_0-auc:0.99801\n[500]\tvalidation_0-auc:0.99845\n[600]\tvalidation_0-auc:0.99867\n[700]\tvalidation_0-auc:0.99889\n[800]\tvalidation_0-auc:0.99897\n[900]\tvalidation_0-auc:0.99904\n[999]\tvalidation_0-auc:0.99909\n",
          "output_type": "stream"
        },
        {
          "name": "stderr",
          "text": "[I 2024-07-19 10:27:31,122] Trial 9 finished with value: 0.9990923663794903 and parameters: {'lambda': 3.8377055587891378, 'max_depth': 16, 'eta': 0.03288005704220766, 'subsample': 0.8056445302439523, 'colsample_bylevel': 0.5468460619320108, 'colsample_bytree': 0.6410046673794343}. Best is trial 1 with value: 0.9994152538800692.\n",
          "output_type": "stream"
        },
        {
          "traceback": [
            "\u001b[0;31m---------------------------------------------------------------------------\u001b[0m",
            "\u001b[0;31mNameError\u001b[0m                                 Traceback (most recent call last)",
            "Cell \u001b[0;32mIn[11], line 26\u001b[0m\n\u001b[1;32m     24\u001b[0m xgb_study \u001b[38;5;241m=\u001b[39m optuna\u001b[38;5;241m.\u001b[39mcreate_study(direction\u001b[38;5;241m=\u001b[39m\u001b[38;5;124m'\u001b[39m\u001b[38;5;124mmaximize\u001b[39m\u001b[38;5;124m'\u001b[39m)\n\u001b[1;32m     25\u001b[0m xgb_study\u001b[38;5;241m.\u001b[39moptimize(objective, n_trials\u001b[38;5;241m=\u001b[39m\u001b[38;5;241m10\u001b[39m)\n\u001b[0;32m---> 26\u001b[0m \u001b[43mstudy\u001b[49m\u001b[38;5;241m.\u001b[39mbest_params\n",
            "\u001b[0;31mNameError\u001b[0m: name 'study' is not defined"
          ],
          "ename": "NameError",
          "evalue": "name 'study' is not defined",
          "output_type": "error"
        }
      ]
    },
    {
      "cell_type": "code",
      "source": [
        "xgb_study.best_params"
      ],
      "metadata": {
        "execution": {
          "iopub.status.busy": "2024-07-19T10:28:16.220423Z",
          "iopub.execute_input": "2024-07-19T10:28:16.220762Z",
          "iopub.status.idle": "2024-07-19T10:28:16.228493Z",
          "shell.execute_reply.started": "2024-07-19T10:28:16.220735Z",
          "shell.execute_reply": "2024-07-19T10:28:16.227465Z"
        },
        "trusted": true,
        "id": "C8KL3vx8kXZp",
        "outputId": "89c04fd9-981a-4e78-b300-6bed07c0cf80"
      },
      "execution_count": null,
      "outputs": [
        {
          "execution_count": 12,
          "output_type": "execute_result",
          "data": {
            "text/plain": "{'lambda': 3.1746001035102163,\n 'max_depth': 16,\n 'eta': 0.07628949004137456,\n 'subsample': 0.5540391318261598,\n 'colsample_bylevel': 0.8209052774575794,\n 'colsample_bytree': 0.5064089983052313}"
          },
          "metadata": {}
        }
      ]
    },
    {
      "cell_type": "markdown",
      "source": [
        "Training optimal XgBoost model and checking performance"
      ],
      "metadata": {
        "id": "s0gPdUwHkXZp"
      }
    },
    {
      "cell_type": "code",
      "source": [
        "xgb_model = XGBClassifier(reg_lambda = 3.1746001035102163, max_depth = 16, eta = 0.07628949004137456, subsample = 0.5540391318261598, colsample_bylevel = 0.8209052774575794,\n",
        "                      colsample_bytree = 0.5064089983052313, eval_metric = 'auc', n_estimators = 1000, device = 'cuda', scale_pos_weight = ratio,\n",
        "                      early_stopping_rounds = 100, random_state = 69)\n",
        "\n",
        "xgb_model.fit(X_train1, y_train, eval_set = [(X_valid1, y_valid)], verbose = False)\n",
        "\n",
        "preds = xgb_model.predict(X_valid1)\n",
        "\n",
        "report = classification_report(y_valid, preds, target_names = [\"Not Fraud\", \"Fraud\"])\n",
        "\n",
        "print(\"Classification report is:\")\n",
        "print(report)"
      ],
      "metadata": {
        "execution": {
          "iopub.status.busy": "2024-07-19T10:35:01.855328Z",
          "iopub.execute_input": "2024-07-19T10:35:01.85615Z",
          "iopub.status.idle": "2024-07-19T10:35:28.94813Z",
          "shell.execute_reply.started": "2024-07-19T10:35:01.856116Z",
          "shell.execute_reply": "2024-07-19T10:35:28.947132Z"
        },
        "trusted": true,
        "id": "9e3QDKP4kXZp",
        "outputId": "7a502635-4921-48f5-aa12-57e9d5f9b8ef"
      },
      "execution_count": null,
      "outputs": [
        {
          "name": "stdout",
          "text": "Classification report is:\n              precision    recall  f1-score   support\n\n   Not Fraud       1.00      1.00      1.00    257818\n       Fraud       0.85      0.90      0.88      1517\n\n    accuracy                           1.00    259335\n   macro avg       0.93      0.95      0.94    259335\nweighted avg       1.00      1.00      1.00    259335\n\n",
          "output_type": "stream"
        }
      ]
    }
  ]
}