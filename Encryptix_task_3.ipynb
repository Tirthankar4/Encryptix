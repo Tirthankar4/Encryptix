{
  "metadata": {
    "kernelspec": {
      "language": "python",
      "display_name": "Python 3",
      "name": "python3"
    },
    "language_info": {
      "name": "python",
      "version": "3.10.12",
      "mimetype": "text/x-python",
      "codemirror_mode": {
        "name": "ipython",
        "version": 3
      },
      "pygments_lexer": "ipython3",
      "nbconvert_exporter": "python",
      "file_extension": ".py"
    },
    "kaggle": {
      "accelerator": "none",
      "dataSources": [
        {
          "sourceId": 2347441,
          "sourceType": "datasetVersion",
          "datasetId": 1417162
        }
      ],
      "dockerImageVersionId": 30558,
      "isInternetEnabled": true,
      "language": "python",
      "sourceType": "notebook",
      "isGpuEnabled": false
    },
    "colab": {
      "name": "MOVIE GENRE CLASSIFICATION",
      "provenance": [],
      "include_colab_link": true
    }
  },
  "nbformat_minor": 0,
  "nbformat": 4,
  "cells": [
    {
      "cell_type": "markdown",
      "metadata": {
        "id": "view-in-github",
        "colab_type": "text"
      },
      "source": [
        "<a href=\"https://colab.research.google.com/github/Tirthankar4/Encryptix/blob/main/Encryptix_task_3.ipynb\" target=\"_parent\"><img src=\"https://colab.research.google.com/assets/colab-badge.svg\" alt=\"Open In Colab\"/></a>"
      ]
    },
    {
      "source": [
        "# IMPORTANT: RUN THIS CELL IN ORDER TO IMPORT YOUR KAGGLE DATA SOURCES\n",
        "# TO THE CORRECT LOCATION (/kaggle/input) IN YOUR NOTEBOOK,\n",
        "# THEN FEEL FREE TO DELETE THIS CELL.\n",
        "# NOTE: THIS NOTEBOOK ENVIRONMENT DIFFERS FROM KAGGLE'S PYTHON\n",
        "# ENVIRONMENT SO THERE MAY BE MISSING LIBRARIES USED BY YOUR\n",
        "# NOTEBOOK.\n",
        "\n",
        "import os\n",
        "import sys\n",
        "from tempfile import NamedTemporaryFile\n",
        "from urllib.request import urlopen\n",
        "from urllib.parse import unquote, urlparse\n",
        "from urllib.error import HTTPError\n",
        "from zipfile import ZipFile\n",
        "import tarfile\n",
        "import shutil\n",
        "\n",
        "CHUNK_SIZE = 40960\n",
        "DATA_SOURCE_MAPPING = 'genre-classification-dataset-imdb:https%3A%2F%2Fstorage.googleapis.com%2Fkaggle-data-sets%2F1417162%2F2347441%2Fbundle%2Farchive.zip%3FX-Goog-Algorithm%3DGOOG4-RSA-SHA256%26X-Goog-Credential%3Dgcp-kaggle-com%2540kaggle-161607.iam.gserviceaccount.com%252F20240807%252Fauto%252Fstorage%252Fgoog4_request%26X-Goog-Date%3D20240807T081932Z%26X-Goog-Expires%3D259200%26X-Goog-SignedHeaders%3Dhost%26X-Goog-Signature%3D4511398d19afe552b85813f38f506d4db8b6e6c0f7643812bf5346691562263c0ce4c8adbf0ba53952b388eb80baaef806dcba853117068f798a97d0cac7ba1dcebd04eebdf54732b7a3c80d2cb112707177dcfec604262eacf843d036f58648f182f65d3faedd18e70ff86645fe2b4d3e23d33737c588555b296cd479b98b8da087ebe0d6a06a5d591c059637efff638d7aec6dbd41754d725c4fc48f3ac6227d96f45a0136071fe0b0f5bbc3554690ea4ab57afdf7a1704f723584457ec71f44a798d8b0403c471233f06e6f9c27447d425328506407394ba2451fc8153760f06397783c22ef9550ed6ae360f1f2b728b0996c4451c1aaf694ad9f2fef2741'\n",
        "\n",
        "KAGGLE_INPUT_PATH='/kaggle/input'\n",
        "KAGGLE_WORKING_PATH='/kaggle/working'\n",
        "KAGGLE_SYMLINK='kaggle'\n",
        "\n",
        "!umount /kaggle/input/ 2> /dev/null\n",
        "shutil.rmtree('/kaggle/input', ignore_errors=True)\n",
        "os.makedirs(KAGGLE_INPUT_PATH, 0o777, exist_ok=True)\n",
        "os.makedirs(KAGGLE_WORKING_PATH, 0o777, exist_ok=True)\n",
        "\n",
        "try:\n",
        "  os.symlink(KAGGLE_INPUT_PATH, os.path.join(\"..\", 'input'), target_is_directory=True)\n",
        "except FileExistsError:\n",
        "  pass\n",
        "try:\n",
        "  os.symlink(KAGGLE_WORKING_PATH, os.path.join(\"..\", 'working'), target_is_directory=True)\n",
        "except FileExistsError:\n",
        "  pass\n",
        "\n",
        "for data_source_mapping in DATA_SOURCE_MAPPING.split(','):\n",
        "    directory, download_url_encoded = data_source_mapping.split(':')\n",
        "    download_url = unquote(download_url_encoded)\n",
        "    filename = urlparse(download_url).path\n",
        "    destination_path = os.path.join(KAGGLE_INPUT_PATH, directory)\n",
        "    try:\n",
        "        with urlopen(download_url) as fileres, NamedTemporaryFile() as tfile:\n",
        "            total_length = fileres.headers['content-length']\n",
        "            print(f'Downloading {directory}, {total_length} bytes compressed')\n",
        "            dl = 0\n",
        "            data = fileres.read(CHUNK_SIZE)\n",
        "            while len(data) > 0:\n",
        "                dl += len(data)\n",
        "                tfile.write(data)\n",
        "                done = int(50 * dl / int(total_length))\n",
        "                sys.stdout.write(f\"\\r[{'=' * done}{' ' * (50-done)}] {dl} bytes downloaded\")\n",
        "                sys.stdout.flush()\n",
        "                data = fileres.read(CHUNK_SIZE)\n",
        "            if filename.endswith('.zip'):\n",
        "              with ZipFile(tfile) as zfile:\n",
        "                zfile.extractall(destination_path)\n",
        "            else:\n",
        "              with tarfile.open(tfile.name) as tarfile:\n",
        "                tarfile.extractall(destination_path)\n",
        "            print(f'\\nDownloaded and uncompressed: {directory}')\n",
        "    except HTTPError as e:\n",
        "        print(f'Failed to load (likely expired) {download_url} to path {destination_path}')\n",
        "        continue\n",
        "    except OSError as e:\n",
        "        print(f'Failed to load {download_url} to path {destination_path}')\n",
        "        continue\n",
        "\n",
        "print('Data source import complete.')\n"
      ],
      "metadata": {
        "colab": {
          "base_uri": "https://localhost:8080/"
        },
        "id": "5XNQt_LJ7AxH",
        "outputId": "917fc688-a2ca-426d-a957-a5e2d702778a"
      },
      "cell_type": "code",
      "outputs": [
        {
          "output_type": "stream",
          "name": "stdout",
          "text": [
            "Downloading genre-classification-dataset-imdb, 43729690 bytes compressed\n",
            "[==================================================] 43729690 bytes downloaded\n",
            "Downloaded and uncompressed: genre-classification-dataset-imdb\n",
            "Data source import complete.\n"
          ]
        }
      ],
      "execution_count": 1
    },
    {
      "cell_type": "code",
      "source": [
        "!pip install optuna"
      ],
      "metadata": {
        "collapsed": true,
        "colab": {
          "base_uri": "https://localhost:8080/"
        },
        "id": "_6b7iIfm7PcL",
        "outputId": "f0ce051c-ec23-445c-eadf-fd36a9729e4b"
      },
      "execution_count": 3,
      "outputs": [
        {
          "output_type": "stream",
          "name": "stdout",
          "text": [
            "Collecting optuna\n",
            "  Downloading optuna-3.6.1-py3-none-any.whl.metadata (17 kB)\n",
            "Collecting alembic>=1.5.0 (from optuna)\n",
            "  Downloading alembic-1.13.2-py3-none-any.whl.metadata (7.4 kB)\n",
            "Collecting colorlog (from optuna)\n",
            "  Downloading colorlog-6.8.2-py3-none-any.whl.metadata (10 kB)\n",
            "Requirement already satisfied: numpy in /usr/local/lib/python3.10/dist-packages (from optuna) (1.26.4)\n",
            "Requirement already satisfied: packaging>=20.0 in /usr/local/lib/python3.10/dist-packages (from optuna) (24.1)\n",
            "Requirement already satisfied: sqlalchemy>=1.3.0 in /usr/local/lib/python3.10/dist-packages (from optuna) (2.0.31)\n",
            "Requirement already satisfied: tqdm in /usr/local/lib/python3.10/dist-packages (from optuna) (4.66.4)\n",
            "Requirement already satisfied: PyYAML in /usr/local/lib/python3.10/dist-packages (from optuna) (6.0.1)\n",
            "Collecting Mako (from alembic>=1.5.0->optuna)\n",
            "  Downloading Mako-1.3.5-py3-none-any.whl.metadata (2.9 kB)\n",
            "Requirement already satisfied: typing-extensions>=4 in /usr/local/lib/python3.10/dist-packages (from alembic>=1.5.0->optuna) (4.12.2)\n",
            "Requirement already satisfied: greenlet!=0.4.17 in /usr/local/lib/python3.10/dist-packages (from sqlalchemy>=1.3.0->optuna) (3.0.3)\n",
            "Requirement already satisfied: MarkupSafe>=0.9.2 in /usr/local/lib/python3.10/dist-packages (from Mako->alembic>=1.5.0->optuna) (2.1.5)\n",
            "Downloading optuna-3.6.1-py3-none-any.whl (380 kB)\n",
            "\u001b[2K   \u001b[90m━━━━━━━━━━━━━━━━━━━━━━━━━━━━━━━━━━━━━━━━\u001b[0m \u001b[32m380.1/380.1 kB\u001b[0m \u001b[31m3.5 MB/s\u001b[0m eta \u001b[36m0:00:00\u001b[0m\n",
            "\u001b[?25hDownloading alembic-1.13.2-py3-none-any.whl (232 kB)\n",
            "\u001b[2K   \u001b[90m━━━━━━━━━━━━━━━━━━━━━━━━━━━━━━━━━━━━━━━━\u001b[0m \u001b[32m233.0/233.0 kB\u001b[0m \u001b[31m10.5 MB/s\u001b[0m eta \u001b[36m0:00:00\u001b[0m\n",
            "\u001b[?25hDownloading colorlog-6.8.2-py3-none-any.whl (11 kB)\n",
            "Downloading Mako-1.3.5-py3-none-any.whl (78 kB)\n",
            "\u001b[2K   \u001b[90m━━━━━━━━━━━━━━━━━━━━━━━━━━━━━━━━━━━━━━━━\u001b[0m \u001b[32m78.6/78.6 kB\u001b[0m \u001b[31m4.9 MB/s\u001b[0m eta \u001b[36m0:00:00\u001b[0m\n",
            "\u001b[?25hInstalling collected packages: Mako, colorlog, alembic, optuna\n",
            "Successfully installed Mako-1.3.5 alembic-1.13.2 colorlog-6.8.2 optuna-3.6.1\n"
          ]
        }
      ]
    },
    {
      "cell_type": "code",
      "source": [
        "import numpy as np\n",
        "import pandas as pd\n",
        "import re\n",
        "import nltk\n",
        "import string\n",
        "from nltk.corpus import stopwords\n",
        "from nltk.stem import LancasterStemmer\n",
        "from sklearn.feature_extraction.text import TfidfVectorizer\n",
        "from sklearn.model_selection import train_test_split\n",
        "from sklearn.linear_model import LogisticRegression\n",
        "from sklearn.naive_bayes import MultinomialNB\n",
        "from sklearn.svm import SVC\n",
        "import optuna\n",
        "from sklearn.metrics import f1_score, classification_report"
      ],
      "metadata": {
        "execution": {
          "iopub.status.busy": "2024-08-07T08:00:06.595446Z",
          "iopub.execute_input": "2024-08-07T08:00:06.596596Z",
          "iopub.status.idle": "2024-08-07T08:00:11.289687Z",
          "shell.execute_reply.started": "2024-08-07T08:00:06.596548Z",
          "shell.execute_reply": "2024-08-07T08:00:11.28843Z"
        },
        "trusted": true,
        "id": "vcsY2nFF7AxJ"
      },
      "execution_count": 4,
      "outputs": []
    },
    {
      "cell_type": "code",
      "source": [
        "train_path = \"/kaggle/input/genre-classification-dataset-imdb/Genre Classification Dataset/train_data.txt\"\n",
        "train_data = pd.read_csv(train_path, sep=':::', names=['Title', 'Genre', 'Description'], engine = 'python')\n",
        "\n",
        "test_path = \"/kaggle/input/genre-classification-dataset-imdb/Genre Classification Dataset/test_data.txt\"\n",
        "test_data = pd.read_csv(test_path, sep=':::', names=['Id', 'Title', 'Description'], engine = 'python')\n",
        "\n",
        "test_soln_path = \"/kaggle/input/genre-classification-dataset-imdb/Genre Classification Dataset/test_data_solution.txt\"\n",
        "test_data_soln = pd.read_csv(test_soln_path, sep=':::', names=['Title', 'Genre', 'Description'], engine = 'python')"
      ],
      "metadata": {
        "execution": {
          "iopub.status.busy": "2024-08-07T08:00:18.817034Z",
          "iopub.execute_input": "2024-08-07T08:00:18.81765Z",
          "iopub.status.idle": "2024-08-07T08:00:21.884767Z",
          "shell.execute_reply.started": "2024-08-07T08:00:18.817614Z",
          "shell.execute_reply": "2024-08-07T08:00:21.883226Z"
        },
        "trusted": true,
        "id": "QTQJzA2t7AxK"
      },
      "execution_count": 5,
      "outputs": []
    },
    {
      "cell_type": "code",
      "source": [
        "stemmer = LancasterStemmer()\n",
        "nltk.download('punkt')\n",
        "nltk.download('stopwords')\n",
        "stop_words = set(stopwords.words('english'))\n",
        "\n",
        "def clean_text(text):\n",
        "    text = text.lower()\n",
        "    text = re.sub(r'@\\S+', '', text)\n",
        "    text = re.sub(r'http\\S+', '', text)\n",
        "    text = re.sub(r'pic.\\S+', '', text)\n",
        "    text = re.sub(r\"[^a-zA-Z+']\", ' ', text)\n",
        "    text = re.sub(r'\\s+[a-zA-Z]\\s+', ' ', text + ' ')\n",
        "    text = \"\".join([i for i in text if i not in string.punctuation])\n",
        "    words = nltk.word_tokenize(text)\n",
        "    stopwords = nltk.corpus.stopwords.words('english')\n",
        "    text = \" \".join([i for i in words if i not in stopwords and len(i) > 2])\n",
        "    text = re.sub(\"\\s[\\s]+\", \" \", text).strip()\n",
        "    return text\n",
        "\n",
        "train_data['Text_cleaning'] = train_data['Description'].apply(clean_text)\n",
        "test_data['Text_cleaning'] = test_data['Description'].apply(clean_text)"
      ],
      "metadata": {
        "execution": {
          "iopub.status.busy": "2024-08-07T08:00:24.866899Z",
          "iopub.execute_input": "2024-08-07T08:00:24.867365Z",
          "iopub.status.idle": "2024-08-07T08:03:33.025529Z",
          "shell.execute_reply.started": "2024-08-07T08:00:24.867318Z",
          "shell.execute_reply": "2024-08-07T08:03:33.02443Z"
        },
        "trusted": true,
        "colab": {
          "base_uri": "https://localhost:8080/"
        },
        "id": "NEe4TtOj7AxK",
        "outputId": "a1b79a51-97e4-41d9-d8cd-bfea03989bcb"
      },
      "execution_count": 8,
      "outputs": [
        {
          "output_type": "stream",
          "name": "stderr",
          "text": [
            "[nltk_data] Downloading package punkt to /root/nltk_data...\n",
            "[nltk_data]   Unzipping tokenizers/punkt.zip.\n",
            "[nltk_data] Downloading package stopwords to /root/nltk_data...\n",
            "[nltk_data]   Package stopwords is already up-to-date!\n"
          ]
        }
      ]
    },
    {
      "cell_type": "code",
      "source": [
        "tfidf_vectorizer = TfidfVectorizer()\n",
        "\n",
        "X = tfidf_vectorizer.fit_transform(train_data['Text_cleaning'])\n",
        "\n",
        "X_test = tfidf_vectorizer.transform(test_data['Text_cleaning'])"
      ],
      "metadata": {
        "execution": {
          "iopub.status.busy": "2024-08-07T08:04:15.606426Z",
          "iopub.execute_input": "2024-08-07T08:04:15.606893Z",
          "iopub.status.idle": "2024-08-07T08:04:25.519283Z",
          "shell.execute_reply.started": "2024-08-07T08:04:15.606857Z",
          "shell.execute_reply": "2024-08-07T08:04:25.517955Z"
        },
        "trusted": true,
        "id": "TJrIQ2ES7AxK"
      },
      "execution_count": 9,
      "outputs": []
    },
    {
      "cell_type": "code",
      "source": [
        "y = train_data['Genre']\n",
        "y_test = test_data_soln['Genre']\n",
        "X_train, X_val, y_train, y_val = train_test_split(X, y, test_size=0.2, random_state=69)"
      ],
      "metadata": {
        "execution": {
          "iopub.status.busy": "2024-08-07T08:04:31.817274Z",
          "iopub.execute_input": "2024-08-07T08:04:31.818347Z",
          "iopub.status.idle": "2024-08-07T08:04:31.845478Z",
          "shell.execute_reply.started": "2024-08-07T08:04:31.818304Z",
          "shell.execute_reply": "2024-08-07T08:04:31.844308Z"
        },
        "trusted": true,
        "id": "a3JV4HOr7AxL"
      },
      "execution_count": 10,
      "outputs": []
    },
    {
      "cell_type": "code",
      "source": [
        "'''def objective(trial):\n",
        "    param = {\n",
        "        'C': trial.suggest_float('C', 0.0, 10.0),\n",
        "        'tol': trial.suggest_float('tol', 1e-3, 1e-2, log = True),\n",
        "        'solver': trial.suggest_categorical('solver', ['lbfgs', 'sag']),\n",
        "        'max_iter': trial.suggest_int('max_iter', 100, 500)\n",
        "        }\n",
        "\n",
        "    log_model = LogisticRegression(**param)\n",
        "    log_model.fit(X_train, y_train)\n",
        "    log_preds = log_model.predict(X_val)\n",
        "    score = f1_score(y_val, log_preds, average = \"macro\")\n",
        "    return score\n",
        "\n",
        "study = optuna.create_study(direction='maximize')\n",
        "study.optimize(objective, n_trials=10)\n",
        "\n",
        "Training on LogisticRegression is taking very much so hyperparameters cannot be optimized in a reasonable amount of time'''"
      ],
      "metadata": {
        "collapsed": true,
        "colab": {
          "base_uri": "https://localhost:8080/",
          "height": 105
        },
        "id": "Bek5c4Qu7AxL",
        "outputId": "259c6347-57d3-445a-fb2a-31ac376b0413"
      },
      "execution_count": 22,
      "outputs": [
        {
          "output_type": "execute_result",
          "data": {
            "text/plain": [
              "'def objective(trial):\\n    param = {\\n        \\'C\\': trial.suggest_float(\\'C\\', 0.0, 10.0),\\n        \\'tol\\': trial.suggest_float(\\'tol\\', 1e-3, 1e-2, log = True),\\n        \\'solver\\': trial.suggest_categorical(\\'solver\\', [\\'lbfgs\\', \\'sag\\']),\\n        \\'max_iter\\': trial.suggest_int(\\'max_iter\\', 100, 500)\\n        }\\n\\n    log_model = LogisticRegression(**param)\\n    log_model.fit(X_train, y_train)\\n    log_preds = log_model.predict(X_val)\\n    score = f1_score(y_val, log_preds, average = \"macro\")\\n    return score\\n\\nstudy = optuna.create_study(direction=\\'maximize\\')\\nstudy.optimize(objective, n_trials=10)\\n\\nTraining on LogisticRegression is taking very much so hyperparameters cannot be optimized in a reasonable amount of time'"
            ],
            "application/vnd.google.colaboratory.intrinsic+json": {
              "type": "string"
            }
          },
          "metadata": {},
          "execution_count": 22
        }
      ]
    },
    {
      "cell_type": "code",
      "source": [
        "log_model = LogisticRegression(solver = 'lbfgs', max_iter = 400, n_jobs = -1)\n",
        "log_model.fit(X_train, y_train)\n",
        "log_preds = log_model.predict(X_test)\n",
        "print(classification_report(y_test, log_preds))"
      ],
      "metadata": {
        "colab": {
          "base_uri": "https://localhost:8080/"
        },
        "id": "xjPOA0Ru-o3Q",
        "outputId": "53e5ca46-6e44-4949-d0c9-d8c32bfeebb6"
      },
      "execution_count": 19,
      "outputs": [
        {
          "output_type": "stream",
          "name": "stderr",
          "text": [
            "/usr/local/lib/python3.10/dist-packages/sklearn/metrics/_classification.py:1471: UndefinedMetricWarning: Precision and F-score are ill-defined and being set to 0.0 in labels with no predicted samples. Use `zero_division` parameter to control this behavior.\n",
            "  _warn_prf(average, modifier, msg_start, len(result))\n",
            "/usr/local/lib/python3.10/dist-packages/sklearn/metrics/_classification.py:1471: UndefinedMetricWarning: Precision and F-score are ill-defined and being set to 0.0 in labels with no predicted samples. Use `zero_division` parameter to control this behavior.\n",
            "  _warn_prf(average, modifier, msg_start, len(result))\n"
          ]
        },
        {
          "output_type": "stream",
          "name": "stdout",
          "text": [
            "               precision    recall  f1-score   support\n",
            "\n",
            "      action        0.54      0.24      0.33      1314\n",
            "       adult        0.62      0.17      0.27       590\n",
            "   adventure        0.73      0.12      0.21       775\n",
            "   animation        0.44      0.01      0.02       498\n",
            "   biography        0.00      0.00      0.00       264\n",
            "      comedy        0.54      0.58      0.56      7446\n",
            "       crime        0.32      0.01      0.02       505\n",
            " documentary        0.65      0.87      0.74     13096\n",
            "       drama        0.53      0.80      0.64     13612\n",
            "      family        0.56      0.06      0.10       783\n",
            "     fantasy        0.67      0.01      0.01       322\n",
            "   game-show        0.92      0.47      0.62       193\n",
            "     history        0.00      0.00      0.00       243\n",
            "      horror        0.67      0.54      0.60      2204\n",
            "       music        0.71      0.35      0.47       731\n",
            "     musical        1.00      0.00      0.01       276\n",
            "     mystery        0.00      0.00      0.00       318\n",
            "        news        0.88      0.04      0.07       181\n",
            "  reality-tv        0.49      0.13      0.20       883\n",
            "     romance        0.25      0.00      0.01       672\n",
            "      sci-fi        0.60      0.17      0.27       646\n",
            "       short        0.51      0.30      0.38      5072\n",
            "       sport        0.86      0.16      0.27       431\n",
            "   talk-show        0.71      0.14      0.23       391\n",
            "    thriller        0.40      0.09      0.15      1590\n",
            "         war        0.00      0.00      0.00       132\n",
            "     western        0.93      0.66      0.77      1032\n",
            "\n",
            "     accuracy                           0.58     54200\n",
            "    macro avg       0.54      0.22      0.26     54200\n",
            " weighted avg       0.57      0.58      0.53     54200\n",
            "\n"
          ]
        },
        {
          "output_type": "stream",
          "name": "stderr",
          "text": [
            "/usr/local/lib/python3.10/dist-packages/sklearn/metrics/_classification.py:1471: UndefinedMetricWarning: Precision and F-score are ill-defined and being set to 0.0 in labels with no predicted samples. Use `zero_division` parameter to control this behavior.\n",
            "  _warn_prf(average, modifier, msg_start, len(result))\n"
          ]
        }
      ]
    },
    {
      "cell_type": "code",
      "source": [
        "def objective(trial):\n",
        "    param = {\n",
        "        'alpha': trial.suggest_float('alpha', 0.0, 10.0)\n",
        "        }\n",
        "\n",
        "    nb_model = MultinomialNB(**param)\n",
        "    nb_model.fit(X_train, y_train)\n",
        "    nb_preds = nb_model.predict(X_val)\n",
        "    score = f1_score(y_val, nb_preds, average = \"macro\")\n",
        "    return score\n",
        "\n",
        "study = optuna.create_study(direction='maximize')\n",
        "study.optimize(objective, n_trials=20)"
      ],
      "metadata": {
        "execution": {
          "iopub.status.busy": "2024-08-07T07:54:30.141458Z",
          "iopub.execute_input": "2024-08-07T07:54:30.141888Z",
          "iopub.status.idle": "2024-08-07T07:54:31.898608Z",
          "shell.execute_reply.started": "2024-08-07T07:54:30.141847Z",
          "shell.execute_reply": "2024-08-07T07:54:31.897573Z"
        },
        "collapsed": true,
        "jupyter": {
          "outputs_hidden": true
        },
        "trusted": true,
        "colab": {
          "base_uri": "https://localhost:8080/"
        },
        "id": "G3RPHdw47AxL",
        "outputId": "5f22625d-ebe3-450a-bb40-1a94deb79722"
      },
      "execution_count": 20,
      "outputs": [
        {
          "output_type": "stream",
          "name": "stderr",
          "text": [
            "[I 2024-08-07 08:50:06,730] A new study created in memory with name: no-name-019c0073-43db-4bb0-b9cd-da2347661104\n",
            "[I 2024-08-07 08:50:07,551] Trial 0 finished with value: 0.04448224346588141 and parameters: {'alpha': 4.39592660730516}. Best is trial 0 with value: 0.04448224346588141.\n",
            "[I 2024-08-07 08:50:08,304] Trial 1 finished with value: 0.04404506000886705 and parameters: {'alpha': 8.834820041394174}. Best is trial 0 with value: 0.04448224346588141.\n",
            "[I 2024-08-07 08:50:09,420] Trial 2 finished with value: 0.04407190086653385 and parameters: {'alpha': 7.203573307659418}. Best is trial 0 with value: 0.04448224346588141.\n",
            "[I 2024-08-07 08:50:09,875] Trial 3 finished with value: 0.044063920317365834 and parameters: {'alpha': 9.38967120650642}. Best is trial 0 with value: 0.04448224346588141.\n",
            "[I 2024-08-07 08:50:10,451] Trial 4 finished with value: 0.044662992538159224 and parameters: {'alpha': 3.0809885861163187}. Best is trial 4 with value: 0.044662992538159224.\n",
            "[I 2024-08-07 08:50:11,196] Trial 5 finished with value: 0.04439295510892346 and parameters: {'alpha': 5.247568878569476}. Best is trial 4 with value: 0.044662992538159224.\n",
            "[I 2024-08-07 08:50:11,962] Trial 6 finished with value: 0.19274207466712628 and parameters: {'alpha': 0.03912159314599539}. Best is trial 6 with value: 0.19274207466712628.\n",
            "[I 2024-08-07 08:50:12,711] Trial 7 finished with value: 0.04404506000886705 and parameters: {'alpha': 8.791203414076419}. Best is trial 6 with value: 0.19274207466712628.\n",
            "[I 2024-08-07 08:50:13,476] Trial 8 finished with value: 0.045093132381785174 and parameters: {'alpha': 1.5771980421271004}. Best is trial 6 with value: 0.19274207466712628.\n",
            "[I 2024-08-07 08:50:14,227] Trial 9 finished with value: 0.04467457819798464 and parameters: {'alpha': 2.9618425787687794}. Best is trial 6 with value: 0.19274207466712628.\n",
            "[I 2024-08-07 08:50:14,676] Trial 10 finished with value: 0.04767965235299497 and parameters: {'alpha': 0.6706609621160822}. Best is trial 6 with value: 0.19274207466712628.\n",
            "[I 2024-08-07 08:50:15,140] Trial 11 finished with value: 0.07987339128323717 and parameters: {'alpha': 0.18341903698005418}. Best is trial 6 with value: 0.19274207466712628.\n",
            "[I 2024-08-07 08:50:15,587] Trial 12 finished with value: 0.06233193273186846 and parameters: {'alpha': 0.2770313565882667}. Best is trial 6 with value: 0.19274207466712628.\n",
            "[I 2024-08-07 08:50:16,031] Trial 13 finished with value: 0.04496814730632708 and parameters: {'alpha': 1.7159644123441211}. Best is trial 6 with value: 0.19274207466712628.\n",
            "[I 2024-08-07 08:50:16,469] Trial 14 finished with value: 0.05461561645737702 and parameters: {'alpha': 0.3645279873757358}. Best is trial 6 with value: 0.19274207466712628.\n",
            "[I 2024-08-07 08:50:16,912] Trial 15 finished with value: 0.04488537472021295 and parameters: {'alpha': 2.4713951900689257}. Best is trial 6 with value: 0.19274207466712628.\n",
            "[I 2024-08-07 08:50:17,357] Trial 16 finished with value: 0.04447738684533691 and parameters: {'alpha': 4.56911957607148}. Best is trial 6 with value: 0.19274207466712628.\n",
            "[I 2024-08-07 08:50:17,796] Trial 17 finished with value: 0.04494800509603584 and parameters: {'alpha': 1.617477308029077}. Best is trial 6 with value: 0.19274207466712628.\n",
            "[I 2024-08-07 08:50:18,245] Trial 18 finished with value: 0.04433147494188444 and parameters: {'alpha': 5.4331766719178365}. Best is trial 6 with value: 0.19274207466712628.\n",
            "[I 2024-08-07 08:50:18,701] Trial 19 finished with value: 0.04420010413189579 and parameters: {'alpha': 6.671438418541298}. Best is trial 6 with value: 0.19274207466712628.\n"
          ]
        }
      ]
    },
    {
      "cell_type": "code",
      "source": [
        "nb_model = MultinomialNB(**study.best_params)\n",
        "nb_model.fit(X_train, y_train)\n",
        "nb_pred = nb_model.predict(X_test)\n",
        "\n",
        "print(classification_report(y_test, nb_pred))"
      ],
      "metadata": {
        "colab": {
          "base_uri": "https://localhost:8080/"
        },
        "id": "MjyBdElm7AxM",
        "outputId": "8d2a3e46-bace-499a-87fa-59ba7ba294a3"
      },
      "execution_count": 21,
      "outputs": [
        {
          "output_type": "stream",
          "name": "stderr",
          "text": [
            "/usr/local/lib/python3.10/dist-packages/sklearn/metrics/_classification.py:1471: UndefinedMetricWarning: Precision and F-score are ill-defined and being set to 0.0 in labels with no predicted samples. Use `zero_division` parameter to control this behavior.\n",
            "  _warn_prf(average, modifier, msg_start, len(result))\n",
            "/usr/local/lib/python3.10/dist-packages/sklearn/metrics/_classification.py:1471: UndefinedMetricWarning: Precision and F-score are ill-defined and being set to 0.0 in labels with no predicted samples. Use `zero_division` parameter to control this behavior.\n",
            "  _warn_prf(average, modifier, msg_start, len(result))\n"
          ]
        },
        {
          "output_type": "stream",
          "name": "stdout",
          "text": [
            "               precision    recall  f1-score   support\n",
            "\n",
            "      action        0.62      0.09      0.16      1314\n",
            "       adult        0.56      0.11      0.18       590\n",
            "   adventure        0.71      0.08      0.15       775\n",
            "   animation        0.50      0.00      0.00       498\n",
            "   biography        0.00      0.00      0.00       264\n",
            "      comedy        0.51      0.45      0.48      7446\n",
            "       crime        0.67      0.00      0.01       505\n",
            " documentary        0.57      0.87      0.69     13096\n",
            "       drama        0.46      0.81      0.59     13612\n",
            "      family        0.56      0.01      0.01       783\n",
            "     fantasy        0.00      0.00      0.00       322\n",
            "   game-show        0.97      0.16      0.27       193\n",
            "     history        0.00      0.00      0.00       243\n",
            "      horror        0.74      0.34      0.47      2204\n",
            "       music        0.85      0.12      0.20       731\n",
            "     musical        1.00      0.01      0.03       276\n",
            "     mystery        0.00      0.00      0.00       318\n",
            "        news        0.00      0.00      0.00       181\n",
            "  reality-tv        0.65      0.02      0.03       883\n",
            "     romance        0.60      0.00      0.01       672\n",
            "      sci-fi        0.81      0.03      0.07       646\n",
            "       short        0.53      0.17      0.25      5072\n",
            "       sport        0.85      0.14      0.24       431\n",
            "   talk-show        0.31      0.01      0.02       391\n",
            "    thriller        0.27      0.01      0.01      1590\n",
            "         war        0.00      0.00      0.00       132\n",
            "     western        0.98      0.62      0.76      1032\n",
            "\n",
            "     accuracy                           0.53     54200\n",
            "    macro avg       0.51      0.15      0.17     54200\n",
            " weighted avg       0.54      0.53      0.45     54200\n",
            "\n"
          ]
        },
        {
          "output_type": "stream",
          "name": "stderr",
          "text": [
            "/usr/local/lib/python3.10/dist-packages/sklearn/metrics/_classification.py:1471: UndefinedMetricWarning: Precision and F-score are ill-defined and being set to 0.0 in labels with no predicted samples. Use `zero_division` parameter to control this behavior.\n",
            "  _warn_prf(average, modifier, msg_start, len(result))\n"
          ]
        }
      ]
    }
  ]
}