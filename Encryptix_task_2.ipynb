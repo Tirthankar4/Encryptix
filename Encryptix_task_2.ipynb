{
  "metadata": {
    "kernelspec": {
      "language": "python",
      "display_name": "Python 3",
      "name": "python3"
    },
    "language_info": {
      "name": "python",
      "version": "3.10.13",
      "mimetype": "text/x-python",
      "codemirror_mode": {
        "name": "ipython",
        "version": 3
      },
      "pygments_lexer": "ipython3",
      "nbconvert_exporter": "python",
      "file_extension": ".py"
    },
    "kaggle": {
      "accelerator": "none",
      "dataSources": [
        {
          "sourceId": 982,
          "sourceType": "datasetVersion",
          "datasetId": 483
        }
      ],
      "dockerImageVersionId": 30746,
      "isInternetEnabled": true,
      "language": "python",
      "sourceType": "notebook",
      "isGpuEnabled": false
    },
    "colab": {
      "name": "Encryptix_task_2",
      "provenance": [],
      "include_colab_link": true
    }
  },
  "nbformat_minor": 0,
  "nbformat": 4,
  "cells": [
    {
      "cell_type": "markdown",
      "metadata": {
        "id": "view-in-github",
        "colab_type": "text"
      },
      "source": [
        "<a href=\"https://colab.research.google.com/github/Tirthankar4/Encryptix/blob/main/Encryptix_task_2.ipynb\" target=\"_parent\"><img src=\"https://colab.research.google.com/assets/colab-badge.svg\" alt=\"Open In Colab\"/></a>"
      ]
    },
    {
      "source": [
        "\n",
        "# IMPORTANT: RUN THIS CELL IN ORDER TO IMPORT YOUR KAGGLE DATA SOURCES\n",
        "# TO THE CORRECT LOCATION (/kaggle/input) IN YOUR NOTEBOOK,\n",
        "# THEN FEEL FREE TO DELETE THIS CELL.\n",
        "# NOTE: THIS NOTEBOOK ENVIRONMENT DIFFERS FROM KAGGLE'S PYTHON\n",
        "# ENVIRONMENT SO THERE MAY BE MISSING LIBRARIES USED BY YOUR\n",
        "# NOTEBOOK.\n",
        "\n",
        "import os\n",
        "import sys\n",
        "from tempfile import NamedTemporaryFile\n",
        "from urllib.request import urlopen\n",
        "from urllib.parse import unquote, urlparse\n",
        "from urllib.error import HTTPError\n",
        "from zipfile import ZipFile\n",
        "import tarfile\n",
        "import shutil\n",
        "\n",
        "CHUNK_SIZE = 40960\n",
        "DATA_SOURCE_MAPPING = 'sms-spam-collection-dataset:https%3A%2F%2Fstorage.googleapis.com%2Fkaggle-data-sets%2F483%2F982%2Fbundle%2Farchive.zip%3FX-Goog-Algorithm%3DGOOG4-RSA-SHA256%26X-Goog-Credential%3Dgcp-kaggle-com%2540kaggle-161607.iam.gserviceaccount.com%252F20240726%252Fauto%252Fstorage%252Fgoog4_request%26X-Goog-Date%3D20240726T113004Z%26X-Goog-Expires%3D259200%26X-Goog-SignedHeaders%3Dhost%26X-Goog-Signature%3D0a91077a4e1750fd52e3078cccaa006a33e62efa6700bd57a8dee907301cee85f95d4b2bea785e4109724e60195e42ffa5cd4ec6018b650c302013ea59c71a07bd24ff7842d83b493924bac72e515681874daceb19b2252ba8aab8621f5ac0bbadbbc3a847cb517f32a2031a87cd22ce8c90e616a94efb6f56aba1a3066fda5fd84b204fb56ee54211d3c18dd0364849b3b7251a363c9fb78a913425a81e16aad5ec8c3fbcbcd0fe61fdfb6bd721d6f9871a78a5543293eed6e699b7ae180814fb109b4db030757d2c0759179dc391fbf5173ec74ec2177ec9db17275bba2569b0726f64928561bf3f7e41277ac49b825568cb9115f69a259f705a68c3ee3602'\n",
        "\n",
        "KAGGLE_INPUT_PATH='/kaggle/input'\n",
        "KAGGLE_WORKING_PATH='/kaggle/working'\n",
        "KAGGLE_SYMLINK='kaggle'\n",
        "\n",
        "!umount /kaggle/input/ 2> /dev/null\n",
        "shutil.rmtree('/kaggle/input', ignore_errors=True)\n",
        "os.makedirs(KAGGLE_INPUT_PATH, 0o777, exist_ok=True)\n",
        "os.makedirs(KAGGLE_WORKING_PATH, 0o777, exist_ok=True)\n",
        "\n",
        "try:\n",
        "  os.symlink(KAGGLE_INPUT_PATH, os.path.join(\"..\", 'input'), target_is_directory=True)\n",
        "except FileExistsError:\n",
        "  pass\n",
        "try:\n",
        "  os.symlink(KAGGLE_WORKING_PATH, os.path.join(\"..\", 'working'), target_is_directory=True)\n",
        "except FileExistsError:\n",
        "  pass\n",
        "\n",
        "for data_source_mapping in DATA_SOURCE_MAPPING.split(','):\n",
        "    directory, download_url_encoded = data_source_mapping.split(':')\n",
        "    download_url = unquote(download_url_encoded)\n",
        "    filename = urlparse(download_url).path\n",
        "    destination_path = os.path.join(KAGGLE_INPUT_PATH, directory)\n",
        "    try:\n",
        "        with urlopen(download_url) as fileres, NamedTemporaryFile() as tfile:\n",
        "            total_length = fileres.headers['content-length']\n",
        "            print(f'Downloading {directory}, {total_length} bytes compressed')\n",
        "            dl = 0\n",
        "            data = fileres.read(CHUNK_SIZE)\n",
        "            while len(data) > 0:\n",
        "                dl += len(data)\n",
        "                tfile.write(data)\n",
        "                done = int(50 * dl / int(total_length))\n",
        "                sys.stdout.write(f\"\\r[{'=' * done}{' ' * (50-done)}] {dl} bytes downloaded\")\n",
        "                sys.stdout.flush()\n",
        "                data = fileres.read(CHUNK_SIZE)\n",
        "            if filename.endswith('.zip'):\n",
        "              with ZipFile(tfile) as zfile:\n",
        "                zfile.extractall(destination_path)\n",
        "            else:\n",
        "              with tarfile.open(tfile.name) as tarfile:\n",
        "                tarfile.extractall(destination_path)\n",
        "            print(f'\\nDownloaded and uncompressed: {directory}')\n",
        "    except HTTPError as e:\n",
        "        print(f'Failed to load (likely expired) {download_url} to path {destination_path}')\n",
        "        continue\n",
        "    except OSError as e:\n",
        "        print(f'Failed to load {download_url} to path {destination_path}')\n",
        "        continue\n",
        "\n",
        "print('Data source import complete.')\n"
      ],
      "metadata": {
        "id": "08ypo0Oszi_B"
      },
      "cell_type": "code",
      "outputs": [],
      "execution_count": null
    },
    {
      "cell_type": "markdown",
      "source": [
        "Load libraries"
      ],
      "metadata": {
        "id": "TH4k_nwOz0zx"
      }
    },
    {
      "cell_type": "code",
      "source": [
        "import numpy as np\n",
        "import pandas as pd\n",
        "import nltk\n",
        "from nltk.tokenize import word_tokenize\n",
        "from nltk.tokenize import RegexpTokenizer\n",
        "from sklearn.model_selection import train_test_split\n",
        "from sklearn.metrics import classification_report\n",
        "from nltk.corpus import stopwords\n",
        "from sklearn.feature_extraction.text import TfidfVectorizer\n",
        "import optuna\n",
        "from sklearn.linear_model import LogisticRegression\n",
        "from sklearn.naive_bayes import ComplementNB\n",
        "from sklearn.svm import SVC\n",
        "from sklearn.metrics import f1_score"
      ],
      "metadata": {
        "execution": {
          "iopub.status.busy": "2024-07-26T11:28:19.024178Z",
          "iopub.execute_input": "2024-07-26T11:28:19.024778Z",
          "iopub.status.idle": "2024-07-26T11:28:19.034619Z",
          "shell.execute_reply.started": "2024-07-26T11:28:19.024721Z",
          "shell.execute_reply": "2024-07-26T11:28:19.033215Z"
        },
        "trusted": true,
        "id": "orBF97iqzi_D"
      },
      "execution_count": null,
      "outputs": []
    },
    {
      "cell_type": "markdown",
      "source": [
        "Dataset loading and initial preprocessing"
      ],
      "metadata": {
        "id": "y_dnZz-Rz2tQ"
      }
    },
    {
      "cell_type": "code",
      "source": [
        "X = pd.read_csv(\"/kaggle/input/sms-spam-collection-dataset/spam.csv\", encoding = 'latin-1')"
      ],
      "metadata": {
        "execution": {
          "iopub.status.busy": "2024-07-26T11:28:19.036869Z",
          "iopub.execute_input": "2024-07-26T11:28:19.037435Z",
          "iopub.status.idle": "2024-07-26T11:28:19.064696Z",
          "shell.execute_reply.started": "2024-07-26T11:28:19.037388Z",
          "shell.execute_reply": "2024-07-26T11:28:19.063537Z"
        },
        "trusted": true,
        "id": "1pEVkVLWzi_E"
      },
      "execution_count": null,
      "outputs": []
    },
    {
      "cell_type": "code",
      "source": [
        "y = X.pop('v1')\n",
        "X.drop([\"Unnamed: 2\", \"Unnamed: 3\", \"Unnamed: 4\"], axis = 1, inplace = True)"
      ],
      "metadata": {
        "execution": {
          "iopub.status.busy": "2024-07-26T11:28:19.066116Z",
          "iopub.execute_input": "2024-07-26T11:28:19.066512Z",
          "iopub.status.idle": "2024-07-26T11:28:19.075113Z",
          "shell.execute_reply.started": "2024-07-26T11:28:19.06648Z",
          "shell.execute_reply": "2024-07-26T11:28:19.073557Z"
        },
        "trusted": true,
        "id": "IYFK20aWzi_E"
      },
      "execution_count": null,
      "outputs": []
    },
    {
      "cell_type": "markdown",
      "source": [
        "download nltk corpus stopwords"
      ],
      "metadata": {
        "id": "AY0Q1aGsz5yf"
      }
    },
    {
      "cell_type": "code",
      "source": [
        "nltk.download('stopwords')\n",
        "\n",
        "stopwords = stopwords.words('english')\n",
        "\n",
        "pattern = r'\\w+'\n",
        "regexp = RegexpTokenizer(pattern)"
      ],
      "metadata": {
        "execution": {
          "iopub.status.busy": "2024-07-26T11:28:19.078414Z",
          "iopub.execute_input": "2024-07-26T11:28:19.078895Z",
          "iopub.status.idle": "2024-07-26T11:28:19.090094Z",
          "shell.execute_reply.started": "2024-07-26T11:28:19.078849Z",
          "shell.execute_reply": "2024-07-26T11:28:19.088598Z"
        },
        "trusted": true,
        "id": "njnfKezJzi_E",
        "outputId": "b329c3cb-d914-4a54-de67-4476cf35ccf3"
      },
      "execution_count": null,
      "outputs": [
        {
          "name": "stdout",
          "text": "[nltk_data] Downloading package stopwords to /usr/share/nltk_data...\n[nltk_data]   Package stopwords is already up-to-date!\n",
          "output_type": "stream"
        }
      ]
    },
    {
      "cell_type": "markdown",
      "source": [
        "text processing for TF-IDF"
      ],
      "metadata": {
        "id": "BDRwIsQSz_Wg"
      }
    },
    {
      "cell_type": "code",
      "source": [
        "X['v2'] = X['v2'].apply(lambda x: regexp.tokenize(x))\n",
        "X['v2'] = X['v2'].apply(lambda x: ' '.join(x))\n",
        "X['v2'] = X['v2'].apply(lambda x: ' '.join([word for word in word_tokenize(x) if word not in (stopwords)]))\n",
        "\n",
        "X['v2'] = X['v2'].apply(lambda x: x.replace('å', ''))\n",
        "X['v2'] = X['v2'].apply(lambda x: x.lower())"
      ],
      "metadata": {
        "execution": {
          "iopub.status.busy": "2024-07-26T11:28:19.091884Z",
          "iopub.execute_input": "2024-07-26T11:28:19.092396Z",
          "iopub.status.idle": "2024-07-26T11:28:20.617738Z",
          "shell.execute_reply.started": "2024-07-26T11:28:19.092353Z",
          "shell.execute_reply": "2024-07-26T11:28:20.616455Z"
        },
        "trusted": true,
        "id": "Z08SFLZEzi_F"
      },
      "execution_count": null,
      "outputs": []
    },
    {
      "cell_type": "markdown",
      "source": [
        "dividing dataset for training and evaluation"
      ],
      "metadata": {
        "id": "-QrgD2w60CA5"
      }
    },
    {
      "cell_type": "code",
      "source": [
        "X_train, X_test, y_train, y_test = train_test_split(X, y, test_size=0.2, random_state=69)"
      ],
      "metadata": {
        "execution": {
          "iopub.status.busy": "2024-07-26T11:28:20.61921Z",
          "iopub.execute_input": "2024-07-26T11:28:20.619654Z",
          "iopub.status.idle": "2024-07-26T11:28:20.630656Z",
          "shell.execute_reply.started": "2024-07-26T11:28:20.619616Z",
          "shell.execute_reply": "2024-07-26T11:28:20.629464Z"
        },
        "trusted": true,
        "id": "AwJf1pCOzi_F"
      },
      "execution_count": null,
      "outputs": []
    },
    {
      "cell_type": "markdown",
      "source": [
        "TF-IDF"
      ],
      "metadata": {
        "id": "y1O8I1Sl0F-w"
      }
    },
    {
      "cell_type": "code",
      "source": [
        "vectorizer = TfidfVectorizer()\n",
        "\n",
        "tfidf_train = vectorizer.fit_transform(X_train['v2'])\n",
        "train_names = vectorizer.get_feature_names_out()\n",
        "train_tfidf = pd.DataFrame(tfidf_train.toarray(), columns=train_names)\n",
        "\n",
        "tfidf_test = vectorizer.transform(X_test['v2'])\n",
        "test_names = vectorizer.get_feature_names_out()\n",
        "test_tfidf = pd.DataFrame(tfidf_test.toarray(), columns=test_names)"
      ],
      "metadata": {
        "execution": {
          "iopub.status.busy": "2024-07-26T11:28:20.63223Z",
          "iopub.execute_input": "2024-07-26T11:28:20.632645Z",
          "iopub.status.idle": "2024-07-26T11:28:20.98982Z",
          "shell.execute_reply.started": "2024-07-26T11:28:20.632602Z",
          "shell.execute_reply": "2024-07-26T11:28:20.98863Z"
        },
        "trusted": true,
        "id": "F41P_pGazi_G"
      },
      "execution_count": null,
      "outputs": []
    },
    {
      "cell_type": "markdown",
      "source": [
        "Baseline Logisitic Regression to compare performance"
      ],
      "metadata": {
        "id": "9ztk_4di0Hcn"
      }
    },
    {
      "cell_type": "code",
      "source": [
        "lr_model = LogisticRegression()\n",
        "lr_model.fit(tfidf_train, y_train)\n",
        "lr_preds = lr_model.predict(tfidf_test)\n",
        "print(\"Classification Report of Logistic Regression model:\")\n",
        "print(classification_report(y_test, lr_preds))"
      ],
      "metadata": {
        "execution": {
          "iopub.status.busy": "2024-07-26T11:28:20.991522Z",
          "iopub.execute_input": "2024-07-26T11:28:20.991843Z",
          "iopub.status.idle": "2024-07-26T11:28:21.151098Z",
          "shell.execute_reply.started": "2024-07-26T11:28:20.991816Z",
          "shell.execute_reply": "2024-07-26T11:28:21.149924Z"
        },
        "trusted": true,
        "id": "Ui4QuQZ5zi_G",
        "outputId": "94c40496-a3a2-45ff-afa9-74ed30f4e731"
      },
      "execution_count": null,
      "outputs": [
        {
          "name": "stdout",
          "text": "Classification Report of Logistic Regression model:\n              precision    recall  f1-score   support\n\n         ham       0.96      1.00      0.98       953\n        spam       0.99      0.75      0.85       162\n\n    accuracy                           0.96      1115\n   macro avg       0.98      0.87      0.92      1115\nweighted avg       0.96      0.96      0.96      1115\n\n",
          "output_type": "stream"
        }
      ]
    },
    {
      "cell_type": "markdown",
      "source": [
        "Baseline Naive Bayes model for comparing performance"
      ],
      "metadata": {
        "id": "ETN2uZsE0K7o"
      }
    },
    {
      "cell_type": "code",
      "source": [
        "nb_model = ComplementNB()\n",
        "nb_model.fit(tfidf_train, y_train)\n",
        "nb_preds = nb_model.predict(tfidf_test)\n",
        "print(\"Classification Report of Complement Naive Bayes model:\")\n",
        "print(classification_report(y_test, nb_preds))"
      ],
      "metadata": {
        "execution": {
          "iopub.status.busy": "2024-07-26T11:28:21.152429Z",
          "iopub.execute_input": "2024-07-26T11:28:21.152777Z",
          "iopub.status.idle": "2024-07-26T11:28:21.23407Z",
          "shell.execute_reply.started": "2024-07-26T11:28:21.152747Z",
          "shell.execute_reply": "2024-07-26T11:28:21.232902Z"
        },
        "trusted": true,
        "id": "QHJp4X0Kzi_G",
        "outputId": "3b037a59-3f7b-4d1e-e50d-6c651752ea81"
      },
      "execution_count": null,
      "outputs": [
        {
          "name": "stdout",
          "text": "Classification Report of Complement Naive Bayes model:\n              precision    recall  f1-score   support\n\n         ham       0.99      0.98      0.98       953\n        spam       0.89      0.91      0.90       162\n\n    accuracy                           0.97      1115\n   macro avg       0.94      0.95      0.94      1115\nweighted avg       0.97      0.97      0.97      1115\n\n",
          "output_type": "stream"
        }
      ]
    },
    {
      "cell_type": "markdown",
      "source": [
        "Hyperparamater tuning of SVM model"
      ],
      "metadata": {
        "id": "N4Re1Np90OZ3"
      }
    },
    {
      "cell_type": "code",
      "source": [
        "def objective(trial):\n",
        "    param = {\n",
        "        'C': trial.suggest_float('C', 0.0, 10.0),\n",
        "        'gamma': trial.suggest_float('gamma', 0.0, 1.0),\n",
        "        'tol': trial.suggest_float('tol', 1e-5, 1e-2, log = True),\n",
        "        'random_state': 69\n",
        "        }\n",
        "\n",
        "    svm_model = SVC(**param)\n",
        "    svm_model.fit(tfidf_train, y_train)\n",
        "    svm_preds = svm_model.predict(tfidf_test)\n",
        "    score = f1_score(y_test, svm_preds, average = \"macro\")\n",
        "    return score\n",
        "\n",
        "study = optuna.create_study(direction='maximize')\n",
        "study.optimize(objective, n_trials=50)"
      ],
      "metadata": {
        "execution": {
          "iopub.status.busy": "2024-07-26T11:28:21.237119Z",
          "iopub.execute_input": "2024-07-26T11:28:21.237492Z",
          "iopub.status.idle": "2024-07-26T11:29:16.906827Z",
          "shell.execute_reply.started": "2024-07-26T11:28:21.237461Z",
          "shell.execute_reply": "2024-07-26T11:29:16.905275Z"
        },
        "trusted": true,
        "id": "RgPKGEjHzi_H",
        "outputId": "d371809a-0f5d-4239-c4eb-431b49adc886"
      },
      "execution_count": null,
      "outputs": [
        {
          "name": "stderr",
          "text": "[I 2024-07-26 11:28:21,241] A new study created in memory with name: no-name-629d9b4f-fc19-4c7e-964d-675561b69f39\n[I 2024-07-26 11:28:23,322] Trial 0 finished with value: 0.957870764749526 and parameters: {'C': 3.002733674951925, 'gamma': 0.9070465343848927, 'tol': 0.00017324258807931945}. Best is trial 0 with value: 0.957870764749526.\n[I 2024-07-26 11:28:24,823] Trial 1 finished with value: 0.957870764749526 and parameters: {'C': 8.027548133931322, 'gamma': 0.8322227887448127, 'tol': 0.0027384364914389307}. Best is trial 0 with value: 0.957870764749526.\n[I 2024-07-26 11:28:26,331] Trial 2 finished with value: 0.957870764749526 and parameters: {'C': 4.978938426723346, 'gamma': 0.82630031735181, 'tol': 0.0012885087842155346}. Best is trial 0 with value: 0.957870764749526.\n[I 2024-07-26 11:28:27,378] Trial 3 finished with value: 0.5096801827527127 and parameters: {'C': 1.037214103677423, 'gamma': 0.026722679211974354, 'tol': 0.00566544058458187}. Best is trial 0 with value: 0.957870764749526.\n[I 2024-07-26 11:28:28,262] Trial 4 finished with value: 0.9639173940813286 and parameters: {'C': 5.622815802170581, 'gamma': 0.13363619162413143, 'tol': 0.0016413351982189233}. Best is trial 4 with value: 0.9639173940813286.\n[I 2024-07-26 11:28:30,376] Trial 5 finished with value: 0.957870764749526 and parameters: {'C': 9.12057513855599, 'gamma': 0.9001434768473556, 'tol': 0.0016183845096881715}. Best is trial 4 with value: 0.9639173940813286.\n[I 2024-07-26 11:28:31,842] Trial 6 finished with value: 0.9598976503773886 and parameters: {'C': 7.934506990830716, 'gamma': 0.7161304308685823, 'tol': 0.0002838683651833843}. Best is trial 4 with value: 0.9639173940813286.\n[I 2024-07-26 11:28:33,076] Trial 7 finished with value: 0.9619131551620484 and parameters: {'C': 4.546212958193028, 'gamma': 0.5331858182648193, 'tol': 0.0011841004262474117}. Best is trial 4 with value: 0.9639173940813286.\n[I 2024-07-26 11:28:33,981] Trial 8 finished with value: 0.9519917193250768 and parameters: {'C': 2.391679654107901, 'gamma': 0.13418878868566386, 'tol': 0.0006202150471147883}. Best is trial 4 with value: 0.9639173940813286.\n[I 2024-07-26 11:28:35,190] Trial 9 finished with value: 0.9101465201465202 and parameters: {'C': 0.3701258798816376, 'gamma': 0.5926426238771109, 'tol': 0.00788580424049381}. Best is trial 4 with value: 0.9639173940813286.\n[I 2024-07-26 11:28:36,275] Trial 10 finished with value: 0.9639173940813286 and parameters: {'C': 6.758095373354548, 'gamma': 0.299296701985257, 'tol': 2.3470926717556237e-05}. Best is trial 4 with value: 0.9639173940813286.\n[I 2024-07-26 11:28:37,375] Trial 11 finished with value: 0.9639173940813286 and parameters: {'C': 6.598117055855099, 'gamma': 0.3040265151217495, 'tol': 1.67173771311552e-05}. Best is trial 4 with value: 0.9639173940813286.\n[I 2024-07-26 11:28:38,496] Trial 12 finished with value: 0.9639173940813286 and parameters: {'C': 6.32275850021726, 'gamma': 0.3485101253127023, 'tol': 4.480586898429863e-05}. Best is trial 4 with value: 0.9639173940813286.\n[I 2024-07-26 11:28:39,553] Trial 13 finished with value: 0.9639173940813286 and parameters: {'C': 6.429857615853674, 'gamma': 0.27183615284829715, 'tol': 8.648925426654383e-05}. Best is trial 4 with value: 0.9639173940813286.\n[I 2024-07-26 11:28:40,471] Trial 14 finished with value: 0.9560783789847589 and parameters: {'C': 3.2361959662540776, 'gamma': 0.13404708234370732, 'tol': 5.5457640611649015e-05}. Best is trial 4 with value: 0.9639173940813286.\n[I 2024-07-26 11:28:41,710] Trial 15 finished with value: 0.9619131551620484 and parameters: {'C': 9.39358509208224, 'gamma': 0.4115459803289556, 'tol': 1.753295651282507e-05}. Best is trial 4 with value: 0.9639173940813286.\n[I 2024-07-26 11:28:42,700] Trial 16 finished with value: 0.9639173940813286 and parameters: {'C': 4.177530149365166, 'gamma': 0.1989833334326005, 'tol': 0.0004976078186948552}. Best is trial 4 with value: 0.9639173940813286.\n[I 2024-07-26 11:28:43,716] Trial 17 finished with value: 0.9180207337695758 and parameters: {'C': 5.690716982498315, 'gamma': 0.01604518686501777, 'tol': 1.009025612666254e-05}. Best is trial 4 with value: 0.9639173940813286.\n[I 2024-07-26 11:28:44,885] Trial 18 finished with value: 0.9619131551620484 and parameters: {'C': 7.724215096235986, 'gamma': 0.41168405843417843, 'tol': 0.000182671084703173}. Best is trial 4 with value: 0.9639173940813286.\n[I 2024-07-26 11:28:45,846] Trial 19 finished with value: 0.965910480616363 and parameters: {'C': 7.166178466751631, 'gamma': 0.2054296037999724, 'tol': 0.004051358866211546}. Best is trial 19 with value: 0.965910480616363.\n[I 2024-07-26 11:28:46,788] Trial 20 finished with value: 0.965910480616363 and parameters: {'C': 8.466801007505875, 'gamma': 0.15125973517820063, 'tol': 0.0037996794551885134}. Best is trial 19 with value: 0.965910480616363.\n[I 2024-07-26 11:28:47,737] Trial 21 finished with value: 0.965910480616363 and parameters: {'C': 8.499558770389573, 'gamma': 0.1641680064199553, 'tol': 0.0034165202881073745}. Best is trial 19 with value: 0.965910480616363.\n[I 2024-07-26 11:28:48,711] Trial 22 finished with value: 0.965910480616363 and parameters: {'C': 9.795158566487332, 'gamma': 0.19761230073520547, 'tol': 0.004001278929547553}. Best is trial 19 with value: 0.965910480616363.\n[I 2024-07-26 11:28:49,564] Trial 23 finished with value: 0.9560783789847589 and parameters: {'C': 8.54502292729543, 'gamma': 0.05482676211773074, 'tol': 0.003485089239186089}. Best is trial 19 with value: 0.965910480616363.\n[I 2024-07-26 11:28:50,534] Trial 24 finished with value: 0.965910480616363 and parameters: {'C': 8.558963873728516, 'gamma': 0.21447263588186166, 'tol': 0.00921980846508441}. Best is trial 19 with value: 0.965910480616363.\n[I 2024-07-26 11:28:51,677] Trial 25 finished with value: 0.9619131551620484 and parameters: {'C': 7.465471693192704, 'gamma': 0.41860025797910605, 'tol': 0.002489949847309051}. Best is trial 19 with value: 0.965910480616363.\n[I 2024-07-26 11:28:52,555] Trial 26 finished with value: 0.965910480616363 and parameters: {'C': 7.236490725708231, 'gamma': 0.11540456802243541, 'tol': 0.005541198675461146}. Best is trial 19 with value: 0.965910480616363.\n[I 2024-07-26 11:28:53,566] Trial 27 finished with value: 0.965910480616363 and parameters: {'C': 8.712964966587618, 'gamma': 0.24669962368671677, 'tol': 0.0007137906835544183}. Best is trial 19 with value: 0.965910480616363.\n[I 2024-07-26 11:28:54,784] Trial 28 finished with value: 0.9619131551620484 and parameters: {'C': 9.864133244108846, 'gamma': 0.49555299947637343, 'tol': 0.0021969986000220545}. Best is trial 19 with value: 0.965910480616363.\n[I 2024-07-26 11:28:55,650] Trial 29 finished with value: 0.9619131551620484 and parameters: {'C': 7.176603828879356, 'gamma': 0.08550193353380443, 'tol': 0.0009867464800979613}. Best is trial 19 with value: 0.965910480616363.\n[I 2024-07-26 11:28:56,728] Trial 30 finished with value: 0.9639173940813286 and parameters: {'C': 9.080226228310924, 'gamma': 0.35300088950027136, 'tol': 0.0050045453566512025}. Best is trial 19 with value: 0.965910480616363.\n[I 2024-07-26 11:28:57,711] Trial 31 finished with value: 0.965910480616363 and parameters: {'C': 9.668975174014173, 'gamma': 0.19674111720902138, 'tol': 0.003528769472767432}. Best is trial 19 with value: 0.965910480616363.\n[I 2024-07-26 11:28:58,665] Trial 32 finished with value: 0.965910480616363 and parameters: {'C': 8.362750999061394, 'gamma': 0.18914867159197435, 'tol': 0.004091185498810875}. Best is trial 19 with value: 0.965910480616363.\n[I 2024-07-26 11:28:59,601] Trial 33 finished with value: 0.965910480616363 and parameters: {'C': 9.718252665116864, 'gamma': 0.1620000053234193, 'tol': 0.0021716061134465277}. Best is trial 19 with value: 0.965910480616363.\n[I 2024-07-26 11:29:00,631] Trial 34 finished with value: 0.8719430960292789 and parameters: {'C': 8.105616956456775, 'gamma': 0.007812087037382037, 'tol': 0.00973390359346471}. Best is trial 19 with value: 0.965910480616363.\n[I 2024-07-26 11:29:01,483] Trial 35 finished with value: 0.9639173940813286 and parameters: {'C': 9.005133098723821, 'gamma': 0.08419247785940173, 'tol': 0.005809772581781632}. Best is trial 19 with value: 0.965910480616363.\n[I 2024-07-26 11:29:02,477] Trial 36 finished with value: 0.965910480616363 and parameters: {'C': 9.955128426656927, 'gamma': 0.24266987810911933, 'tol': 0.0029318218934485736}. Best is trial 19 with value: 0.965910480616363.\n[I 2024-07-26 11:29:03,551] Trial 37 finished with value: 0.9639173940813286 and parameters: {'C': 5.717158116852158, 'gamma': 0.332810009309449, 'tol': 0.0014728845012024784}. Best is trial 19 with value: 0.965910480616363.\n[I 2024-07-26 11:29:04,964] Trial 38 finished with value: 0.9598976503773886 and parameters: {'C': 7.84831758088962, 'gamma': 0.6739600765217673, 'tol': 0.000365997445485298}. Best is trial 19 with value: 0.965910480616363.\n[I 2024-07-26 11:29:07,154] Trial 39 finished with value: 0.957870764749526 and parameters: {'C': 9.214815657804584, 'gamma': 0.9532561378631688, 'tol': 0.0008765073157503631}. Best is trial 19 with value: 0.965910480616363.\n[I 2024-07-26 11:29:08,013] Trial 40 finished with value: 0.9619131551620484 and parameters: {'C': 8.20035056059811, 'gamma': 0.07954507525415765, 'tol': 0.0017905767223491277}. Best is trial 19 with value: 0.965910480616363.\n[I 2024-07-26 11:29:08,976] Trial 41 finished with value: 0.965910480616363 and parameters: {'C': 8.88697964076351, 'gamma': 0.21947486805880378, 'tol': 0.008123801183970504}. Best is trial 19 with value: 0.965910480616363.\n[I 2024-07-26 11:29:09,905] Trial 42 finished with value: 0.965910480616363 and parameters: {'C': 8.599006194187789, 'gamma': 0.16051798813625878, 'tol': 0.005934061846402819}. Best is trial 19 with value: 0.965910480616363.\n[I 2024-07-26 11:29:10,905] Trial 43 finished with value: 0.965910480616363 and parameters: {'C': 7.014559140270895, 'gamma': 0.26178890949657097, 'tol': 0.0075522655683088824}. Best is trial 19 with value: 0.965910480616363.\n[I 2024-07-26 11:29:11,787] Trial 44 finished with value: 0.9678925267759896 and parameters: {'C': 7.5834242763808195, 'gamma': 0.11630206289634215, 'tol': 0.00390496047162406}. Best is trial 44 with value: 0.9678925267759896.\n[I 2024-07-26 11:29:12,613] Trial 45 finished with value: 0.9540408342722102 and parameters: {'C': 7.5836404449946535, 'gamma': 0.05205262074570571, 'tol': 0.003866428630141761}. Best is trial 44 with value: 0.9678925267759896.\n[I 2024-07-26 11:29:13,554] Trial 46 finished with value: 0.9678925267759896 and parameters: {'C': 9.469669955828026, 'gamma': 0.11896411348067959, 'tol': 0.003013279559555794}. Best is trial 44 with value: 0.9678925267759896.\n[I 2024-07-26 11:29:14,450] Trial 47 finished with value: 0.9639173940813286 and parameters: {'C': 6.207955371151586, 'gamma': 0.11421881411494278, 'tol': 0.0013858748539654598}. Best is trial 44 with value: 0.9678925267759896.\n[I 2024-07-26 11:29:15,958] Trial 48 finished with value: 0.957870764749526 and parameters: {'C': 5.104025897859114, 'gamma': 0.821289827342179, 'tol': 0.0026780709547875683}. Best is trial 44 with value: 0.9678925267759896.\n[I 2024-07-26 11:29:16,902] Trial 49 finished with value: 0.965910480616363 and parameters: {'C': 6.764769330993078, 'gamma': 0.14717723955766807, 'tol': 0.001877362179705735}. Best is trial 44 with value: 0.9678925267759896.\n",
          "output_type": "stream"
        }
      ]
    },
    {
      "cell_type": "markdown",
      "source": [
        "Optimal SVM model"
      ],
      "metadata": {
        "id": "KZ6md4D60RLA"
      }
    },
    {
      "cell_type": "code",
      "source": [
        "svm_params = study.best_params\n",
        "svm_model = SVC(**svm_params)\n",
        "svm_model.fit(tfidf_train, y_train)\n",
        "svm_preds = svm_model.predict(tfidf_test)\n",
        "print(\"Classification Report of Support Vector Machine model:\")\n",
        "print(classification_report(y_test, svm_preds))"
      ],
      "metadata": {
        "execution": {
          "iopub.status.busy": "2024-07-26T11:29:16.908326Z",
          "iopub.execute_input": "2024-07-26T11:29:16.908769Z",
          "iopub.status.idle": "2024-07-26T11:29:17.830536Z",
          "shell.execute_reply.started": "2024-07-26T11:29:16.908725Z",
          "shell.execute_reply": "2024-07-26T11:29:17.829481Z"
        },
        "trusted": true,
        "id": "jJ1w_chtzi_H",
        "outputId": "c40b5385-db1d-4ca1-9254-d2305333269a"
      },
      "execution_count": null,
      "outputs": [
        {
          "name": "stdout",
          "text": "Classification Report of Support Vector Machine model:\n              precision    recall  f1-score   support\n\n         ham       0.98      1.00      0.99       953\n        spam       1.00      0.90      0.94       162\n\n    accuracy                           0.98      1115\n   macro avg       0.99      0.95      0.97      1115\nweighted avg       0.99      0.98      0.98      1115\n\n",
          "output_type": "stream"
        }
      ]
    }
  ]
}